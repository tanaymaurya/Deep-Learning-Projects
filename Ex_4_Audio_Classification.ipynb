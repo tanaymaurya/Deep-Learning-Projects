{
 "cells": [
  {
   "cell_type": "markdown",
   "metadata": {
    "id": "2nDnr4nxmeeq"
   },
   "source": [
    "# **Introduction to this lab:**\n",
    "In this lab, we will be doing a classification of the Quran Reciters. The dataset being used is an opensource dataset from Kaggle. You can read more about the data [here](https://www.kaggle.com/datasets/mohammedalrajeh/quran-recitations-for-audio-classification/). In this lab we will be doing audio classification. Feel free to change the dataset and try other datasets.\n"
   ]
  },
  {
   "cell_type": "markdown",
   "metadata": {
    "id": "bxXflDe0pbcR"
   },
   "source": [
    "\n",
    "# 1. Initializations and Dataset Download\n",
    "Lets start by downloading the dataset and installing the necessary library for downloading directly with the link from kaggle."
   ]
  },
  {
   "cell_type": "code",
   "execution_count": 1,
   "metadata": {
    "colab": {
     "base_uri": "https://localhost:8080/"
    },
    "id": "UKxK7J8n1dX4",
    "outputId": "9c75d77f-161b-45e0-de78-f8afe6039d17"
   },
   "outputs": [
    {
     "name": "stdout",
     "output_type": "stream",
     "text": [
      "Please provide your Kaggle credentials to download this dataset. Learn more: http://bit.ly/kaggle-creds\n",
      "Your Kaggle username: omaratef3221\n",
      "Your Kaggle Key: ··········\n",
      "Downloading quran-recitations-for-audio-classification.zip to ./quran-recitations-for-audio-classification\n"
     ]
    },
    {
     "name": "stderr",
     "output_type": "stream",
     "text": [
      "100%|██████████| 2.12G/2.12G [00:25<00:00, 88.3MB/s]\n"
     ]
    },
    {
     "name": "stdout",
     "output_type": "stream",
     "text": [
      "\n"
     ]
    }
   ],
   "source": [
    "!pip install opendatasets --quiet\n",
    "import opendatasets as od\n",
    "od.download(\"https://www.kaggle.com/datasets/mohammedalrajeh/quran-recitations-for-audio-classification\")"
   ]
  },
  {
   "cell_type": "markdown",
   "metadata": {
    "id": "Jmog2XrjpE-o"
   },
   "source": [
    "# 2. Imports\n",
    "Then we will write all our imports, keep in mind that PyTorch is not automatically detects and trains on GPU, you have to tell it to use `cuda`. In case you want to train on Mac Silicon replace cuda with `mps`."
   ]
  },
  {
   "cell_type": "code",
   "execution_count": 2,
   "metadata": {
    "id": "fVzAOYGA1hgJ"
   },
   "outputs": [],
   "source": [
    "import torch # Main PyTorch Library\n",
    "from torch import nn # Used for creating the layers and loss function\n",
    "from torch.optim import Adam # Adam Optimizer\n",
    "import librosa # Library that is used to read and process audio files\n",
    "from torch.utils.data import Dataset, DataLoader # Dataset class and DataLoader for creating the objects\n",
    "from sklearn.preprocessing import LabelEncoder # Label Encoder to encode the classes from strings to numbers\n",
    "import matplotlib.pyplot as plt # Used for visualizing the images and plotting the training progress\n",
    "import pandas as pd # Used to read/create dataframes (csv) and process tabular data\n",
    "import numpy as np # preprocessing and numerical/mathematical operations\n",
    "import os # Used to read the images path from the directory\n",
    "import time # Used to calculate time for each epoch or any processing time in seconds\n",
    "from skimage.transform import resize # Used to resize the images and we will use it to resize audio waves\n",
    "\n",
    "# detect the GPU if any, if not use CPU, change \"cuda\" to \"mps\" if you have a mac\n",
    "device = \"cuda\" if torch.cuda.is_available() else \"cpu\""
   ]
  },
  {
   "cell_type": "markdown",
   "metadata": {
    "id": "aPxD-DnytC6J"
   },
   "source": [
    "# 3. Data\n",
    "The dataframe comes with a csv file that contains the path of each audio file and its corresponding label (Quran Reciter). We will read this dataframe.\n",
    "\n",
    "Then we will modify the path and add the full path to it so that it allows us to read the audio file with respect to colab structure. Then we visualize the first 5 rows of the dataframe.\n",
    "\n",
    "Keep in mind that this step is not the same for every dataset, you may need to read the dataset differently depends on its structure.\n"
   ]
  },
  {
   "cell_type": "code",
   "execution_count": 24,
   "metadata": {
    "colab": {
     "base_uri": "https://localhost:8080/",
     "height": 206
    },
    "id": "NkofIz-w2XTD",
    "outputId": "ae755db4-8bb4-4c4a-f7d8-17dce019e159"
   },
   "outputs": [
    {
     "data": {
      "text/html": [
       "\n",
       "  <div id=\"df-410e44ae-097d-4e58-8a45-5b53e30cd728\" class=\"colab-df-container\">\n",
       "    <div>\n",
       "<style scoped>\n",
       "    .dataframe tbody tr th:only-of-type {\n",
       "        vertical-align: middle;\n",
       "    }\n",
       "\n",
       "    .dataframe tbody tr th {\n",
       "        vertical-align: top;\n",
       "    }\n",
       "\n",
       "    .dataframe thead th {\n",
       "        text-align: right;\n",
       "    }\n",
       "</style>\n",
       "<table border=\"1\" class=\"dataframe\">\n",
       "  <thead>\n",
       "    <tr style=\"text-align: right;\">\n",
       "      <th></th>\n",
       "      <th>FilePath</th>\n",
       "      <th>Class</th>\n",
       "    </tr>\n",
       "  </thead>\n",
       "  <tbody>\n",
       "    <tr>\n",
       "      <th>0</th>\n",
       "      <td>/content/quran-recitations-for-audio-classific...</td>\n",
       "      <td>Mohammed_Aluhaidan</td>\n",
       "    </tr>\n",
       "    <tr>\n",
       "      <th>1</th>\n",
       "      <td>/content/quran-recitations-for-audio-classific...</td>\n",
       "      <td>Mohammed_Aluhaidan</td>\n",
       "    </tr>\n",
       "    <tr>\n",
       "      <th>2</th>\n",
       "      <td>/content/quran-recitations-for-audio-classific...</td>\n",
       "      <td>Mohammed_Aluhaidan</td>\n",
       "    </tr>\n",
       "    <tr>\n",
       "      <th>3</th>\n",
       "      <td>/content/quran-recitations-for-audio-classific...</td>\n",
       "      <td>Mohammed_Aluhaidan</td>\n",
       "    </tr>\n",
       "    <tr>\n",
       "      <th>4</th>\n",
       "      <td>/content/quran-recitations-for-audio-classific...</td>\n",
       "      <td>Mohammed_Aluhaidan</td>\n",
       "    </tr>\n",
       "  </tbody>\n",
       "</table>\n",
       "</div>\n",
       "    <div class=\"colab-df-buttons\">\n",
       "\n",
       "  <div class=\"colab-df-container\">\n",
       "    <button class=\"colab-df-convert\" onclick=\"convertToInteractive('df-410e44ae-097d-4e58-8a45-5b53e30cd728')\"\n",
       "            title=\"Convert this dataframe to an interactive table.\"\n",
       "            style=\"display:none;\">\n",
       "\n",
       "  <svg xmlns=\"http://www.w3.org/2000/svg\" height=\"24px\" viewBox=\"0 -960 960 960\">\n",
       "    <path d=\"M120-120v-720h720v720H120Zm60-500h600v-160H180v160Zm220 220h160v-160H400v160Zm0 220h160v-160H400v160ZM180-400h160v-160H180v160Zm440 0h160v-160H620v160ZM180-180h160v-160H180v160Zm440 0h160v-160H620v160Z\"/>\n",
       "  </svg>\n",
       "    </button>\n",
       "\n",
       "  <style>\n",
       "    .colab-df-container {\n",
       "      display:flex;\n",
       "      gap: 12px;\n",
       "    }\n",
       "\n",
       "    .colab-df-convert {\n",
       "      background-color: #E8F0FE;\n",
       "      border: none;\n",
       "      border-radius: 50%;\n",
       "      cursor: pointer;\n",
       "      display: none;\n",
       "      fill: #1967D2;\n",
       "      height: 32px;\n",
       "      padding: 0 0 0 0;\n",
       "      width: 32px;\n",
       "    }\n",
       "\n",
       "    .colab-df-convert:hover {\n",
       "      background-color: #E2EBFA;\n",
       "      box-shadow: 0px 1px 2px rgba(60, 64, 67, 0.3), 0px 1px 3px 1px rgba(60, 64, 67, 0.15);\n",
       "      fill: #174EA6;\n",
       "    }\n",
       "\n",
       "    .colab-df-buttons div {\n",
       "      margin-bottom: 4px;\n",
       "    }\n",
       "\n",
       "    [theme=dark] .colab-df-convert {\n",
       "      background-color: #3B4455;\n",
       "      fill: #D2E3FC;\n",
       "    }\n",
       "\n",
       "    [theme=dark] .colab-df-convert:hover {\n",
       "      background-color: #434B5C;\n",
       "      box-shadow: 0px 1px 3px 1px rgba(0, 0, 0, 0.15);\n",
       "      filter: drop-shadow(0px 1px 2px rgba(0, 0, 0, 0.3));\n",
       "      fill: #FFFFFF;\n",
       "    }\n",
       "  </style>\n",
       "\n",
       "    <script>\n",
       "      const buttonEl =\n",
       "        document.querySelector('#df-410e44ae-097d-4e58-8a45-5b53e30cd728 button.colab-df-convert');\n",
       "      buttonEl.style.display =\n",
       "        google.colab.kernel.accessAllowed ? 'block' : 'none';\n",
       "\n",
       "      async function convertToInteractive(key) {\n",
       "        const element = document.querySelector('#df-410e44ae-097d-4e58-8a45-5b53e30cd728');\n",
       "        const dataTable =\n",
       "          await google.colab.kernel.invokeFunction('convertToInteractive',\n",
       "                                                    [key], {});\n",
       "        if (!dataTable) return;\n",
       "\n",
       "        const docLinkHtml = 'Like what you see? Visit the ' +\n",
       "          '<a target=\"_blank\" href=https://colab.research.google.com/notebooks/data_table.ipynb>data table notebook</a>'\n",
       "          + ' to learn more about interactive tables.';\n",
       "        element.innerHTML = '';\n",
       "        dataTable['output_type'] = 'display_data';\n",
       "        await google.colab.output.renderOutput(dataTable, element);\n",
       "        const docLink = document.createElement('div');\n",
       "        docLink.innerHTML = docLinkHtml;\n",
       "        element.appendChild(docLink);\n",
       "      }\n",
       "    </script>\n",
       "  </div>\n",
       "\n",
       "\n",
       "<div id=\"df-85ee8706-0493-4725-800a-dd420dee7308\">\n",
       "  <button class=\"colab-df-quickchart\" onclick=\"quickchart('df-85ee8706-0493-4725-800a-dd420dee7308')\"\n",
       "            title=\"Suggest charts\"\n",
       "            style=\"display:none;\">\n",
       "\n",
       "<svg xmlns=\"http://www.w3.org/2000/svg\" height=\"24px\"viewBox=\"0 0 24 24\"\n",
       "     width=\"24px\">\n",
       "    <g>\n",
       "        <path d=\"M19 3H5c-1.1 0-2 .9-2 2v14c0 1.1.9 2 2 2h14c1.1 0 2-.9 2-2V5c0-1.1-.9-2-2-2zM9 17H7v-7h2v7zm4 0h-2V7h2v10zm4 0h-2v-4h2v4z\"/>\n",
       "    </g>\n",
       "</svg>\n",
       "  </button>\n",
       "\n",
       "<style>\n",
       "  .colab-df-quickchart {\n",
       "      --bg-color: #E8F0FE;\n",
       "      --fill-color: #1967D2;\n",
       "      --hover-bg-color: #E2EBFA;\n",
       "      --hover-fill-color: #174EA6;\n",
       "      --disabled-fill-color: #AAA;\n",
       "      --disabled-bg-color: #DDD;\n",
       "  }\n",
       "\n",
       "  [theme=dark] .colab-df-quickchart {\n",
       "      --bg-color: #3B4455;\n",
       "      --fill-color: #D2E3FC;\n",
       "      --hover-bg-color: #434B5C;\n",
       "      --hover-fill-color: #FFFFFF;\n",
       "      --disabled-bg-color: #3B4455;\n",
       "      --disabled-fill-color: #666;\n",
       "  }\n",
       "\n",
       "  .colab-df-quickchart {\n",
       "    background-color: var(--bg-color);\n",
       "    border: none;\n",
       "    border-radius: 50%;\n",
       "    cursor: pointer;\n",
       "    display: none;\n",
       "    fill: var(--fill-color);\n",
       "    height: 32px;\n",
       "    padding: 0;\n",
       "    width: 32px;\n",
       "  }\n",
       "\n",
       "  .colab-df-quickchart:hover {\n",
       "    background-color: var(--hover-bg-color);\n",
       "    box-shadow: 0 1px 2px rgba(60, 64, 67, 0.3), 0 1px 3px 1px rgba(60, 64, 67, 0.15);\n",
       "    fill: var(--button-hover-fill-color);\n",
       "  }\n",
       "\n",
       "  .colab-df-quickchart-complete:disabled,\n",
       "  .colab-df-quickchart-complete:disabled:hover {\n",
       "    background-color: var(--disabled-bg-color);\n",
       "    fill: var(--disabled-fill-color);\n",
       "    box-shadow: none;\n",
       "  }\n",
       "\n",
       "  .colab-df-spinner {\n",
       "    border: 2px solid var(--fill-color);\n",
       "    border-color: transparent;\n",
       "    border-bottom-color: var(--fill-color);\n",
       "    animation:\n",
       "      spin 1s steps(1) infinite;\n",
       "  }\n",
       "\n",
       "  @keyframes spin {\n",
       "    0% {\n",
       "      border-color: transparent;\n",
       "      border-bottom-color: var(--fill-color);\n",
       "      border-left-color: var(--fill-color);\n",
       "    }\n",
       "    20% {\n",
       "      border-color: transparent;\n",
       "      border-left-color: var(--fill-color);\n",
       "      border-top-color: var(--fill-color);\n",
       "    }\n",
       "    30% {\n",
       "      border-color: transparent;\n",
       "      border-left-color: var(--fill-color);\n",
       "      border-top-color: var(--fill-color);\n",
       "      border-right-color: var(--fill-color);\n",
       "    }\n",
       "    40% {\n",
       "      border-color: transparent;\n",
       "      border-right-color: var(--fill-color);\n",
       "      border-top-color: var(--fill-color);\n",
       "    }\n",
       "    60% {\n",
       "      border-color: transparent;\n",
       "      border-right-color: var(--fill-color);\n",
       "    }\n",
       "    80% {\n",
       "      border-color: transparent;\n",
       "      border-right-color: var(--fill-color);\n",
       "      border-bottom-color: var(--fill-color);\n",
       "    }\n",
       "    90% {\n",
       "      border-color: transparent;\n",
       "      border-bottom-color: var(--fill-color);\n",
       "    }\n",
       "  }\n",
       "</style>\n",
       "\n",
       "  <script>\n",
       "    async function quickchart(key) {\n",
       "      const quickchartButtonEl =\n",
       "        document.querySelector('#' + key + ' button');\n",
       "      quickchartButtonEl.disabled = true;  // To prevent multiple clicks.\n",
       "      quickchartButtonEl.classList.add('colab-df-spinner');\n",
       "      try {\n",
       "        const charts = await google.colab.kernel.invokeFunction(\n",
       "            'suggestCharts', [key], {});\n",
       "      } catch (error) {\n",
       "        console.error('Error during call to suggestCharts:', error);\n",
       "      }\n",
       "      quickchartButtonEl.classList.remove('colab-df-spinner');\n",
       "      quickchartButtonEl.classList.add('colab-df-quickchart-complete');\n",
       "    }\n",
       "    (() => {\n",
       "      let quickchartButtonEl =\n",
       "        document.querySelector('#df-85ee8706-0493-4725-800a-dd420dee7308 button');\n",
       "      quickchartButtonEl.style.display =\n",
       "        google.colab.kernel.accessAllowed ? 'block' : 'none';\n",
       "    })();\n",
       "  </script>\n",
       "</div>\n",
       "    </div>\n",
       "  </div>\n"
      ],
      "text/plain": [
       "                                            FilePath               Class\n",
       "0  /content/quran-recitations-for-audio-classific...  Mohammed_Aluhaidan\n",
       "1  /content/quran-recitations-for-audio-classific...  Mohammed_Aluhaidan\n",
       "2  /content/quran-recitations-for-audio-classific...  Mohammed_Aluhaidan\n",
       "3  /content/quran-recitations-for-audio-classific...  Mohammed_Aluhaidan\n",
       "4  /content/quran-recitations-for-audio-classific...  Mohammed_Aluhaidan"
      ]
     },
     "execution_count": 24,
     "metadata": {},
     "output_type": "execute_result"
    }
   ],
   "source": [
    "data_df = pd.read_csv(\"/content/quran-recitations-for-audio-classification/files_paths.csv\") # Read the original csv as a dataframe\n",
    "\n",
    "data_df['FilePath'] = '/content/quran-recitations-for-audio-classification/Dataset/' + data_df['FilePath'].str[1:] # Modify the paths in the dataframe\n",
    "\n",
    "\n",
    "data_df.head() # Visualize the first 5 rows"
   ]
  },
  {
   "cell_type": "markdown",
   "metadata": {
    "id": "JikE6X_dt4WW"
   },
   "source": [
    "# 4. Data investigation\n",
    "Now lets dig deeper into our dataset. In the cell below we print the shape of the data which is represented by (rows, columns), then we plot the data distribution for each class. we can see below that our dataset is not 100% balanced but its almost balanced."
   ]
  },
  {
   "cell_type": "code",
   "execution_count": 26,
   "metadata": {
    "colab": {
     "base_uri": "https://localhost:8080/",
     "height": 744
    },
    "id": "4_i1dYFY4Lyd",
    "outputId": "2d75d2f1-9d96-4a85-df73-e5695a5226da"
   },
   "outputs": [
    {
     "name": "stdout",
     "output_type": "stream",
     "text": [
      "Data Shape is:  (6687, 2)\n",
      "\n",
      "\n",
      "Claases Distrubution is: \n"
     ]
    },
    {
     "data": {
      "image/png": "[encoded data removed]",
      "text/plain": [
       "<Figure size 800x800 with 1 Axes>"
      ]
     },
     "metadata": {},
     "output_type": "display_data"
    }
   ],
   "source": [
    "print(\"Data Shape is: \", data_df.shape) # Print the data shape (rows, columns)\n",
    "print() # Empty line for better viewing\n",
    "\n",
    "print() # Empty line for better viewing\n",
    "print(\"Claases Distrubution is: \")\n",
    "\n",
    "class_counts = data_df['Class'].value_counts() # Get how many data sample for each class\n",
    "plt.figure(figsize=(8, 8)) # Plot a figure of 8 by 8 pixels\n",
    "\n",
    "# we use this for plotting the how many data sample for each class\n",
    "# autopct='%1.1f%%' automatically adds a label to each slice of\n",
    "# the pie with its percentage of the whole, formatted to one decimal place.\n",
    "plt.pie(class_counts, labels=class_counts.index, autopct='%1.1f%%')\n",
    "\n",
    "\n",
    "plt.title('Class Distribution') # Add title to the whole figure\n",
    "\n",
    "plt.show() # Visualize/show the figure - Like print()\n"
   ]
  },
  {
   "cell_type": "markdown",
   "metadata": {
    "id": "SUp_V5ZavZw1"
   },
   "source": [
    "# 5. Data Split\n",
    "Now lets split the dataset into training, validation and testing. Here we will be using it in a bit different way since we will be reading the image paths from the dataframe so better we split the dataframe directly and then read the images. We will do that by getting a random sample of 70% from our data using data_df.sample(frac=0.7,random_state=7) then we will create a new variable of test dataset which we will drop from it the 70% of the train which means that it will be 30% of the data which is the rest of the data using data_df.drop(train.index). Then we will do the same between testing to create validation which will be 50% of the data which means the final split we have is the following:\n",
    "\n",
    "* Training: 70%\n",
    "* Validation: 15%\n",
    "* Testing: 15%"
   ]
  },
  {
   "cell_type": "code",
   "execution_count": null,
   "metadata": {
    "colab": {
     "base_uri": "https://localhost:8080/"
    },
    "id": "q5O1RkPeZ2D-",
    "outputId": "6cdada79-12a6-42bc-8c56-9bc6935d4f3e"
   },
   "outputs": [
    {
     "name": "stdout",
     "output_type": "stream",
     "text": [
      "Training Shape:  (4681, 2)\n",
      "Validation Shape:  (1003, 2)\n",
      "Testing Shape:  (1003, 2)\n"
     ]
    }
   ],
   "source": [
    "label_encoder = LabelEncoder() # Defining our label encoder\n",
    "data_df[\"Class\"] = label_encoder.fit_transform(data_df[\"Class\"]) # Class encoding\n",
    "\n",
    "train=data_df.sample(frac=0.7,random_state=7) # Create training of 70% of the data\n",
    "test=data_df.drop(train.index) # Create testing by removing the 70% of the train data which will result in 30%\n",
    "\n",
    "val=test.sample(frac=0.5,random_state=7) # Create validation of 50% of the testing data\n",
    "test=test.drop(val.index) # Create testing by removing the 50% of the validation data which will result in 50%\n",
    "\n",
    "\n",
    "print(\"Training Shape: \", train.shape) # Print the Trainnig shape (rows, columns)\n",
    "print(\"Validation Shape: \", val.shape) # Print the Validation shape (rows, columns)\n",
    "print(\"Testing Shape: \", test.shape) # Print the Testing shape (rows, columns)"
   ]
  },
  {
   "cell_type": "markdown",
   "metadata": {
    "id": "nHDdSpYGvqd5"
   },
   "source": [
    "# 6. Custom Dataset Class\n",
    "\n",
    "Now lets create some preprocessing objects, first we start by LabelEncoder which converts string classes to numeric for example instead of having the classes as (x, y) it will be (0,1) because machines understands numbers only.\n",
    "\n",
    "\n",
    "* `__init__(self, dataframe):`\n",
    "    When you create an instance of CustomAudioDataset, you need to provide a dataframe (a kind of table with data that we read before).\n",
    "    Inside this function:\n",
    "    * self.dataframe: stores the provided dataframe.\n",
    "    * self.labels: converts the 'Class' column of the dataframe into numeric values with the label encoder we created before. Then moving them to the device (like a GPU `cuda` we defined before) for faster computation.\n",
    "    * self.audios: loads the audio files listed in the 'FilePath' column of the dataframe and converts each audio file into a spectrogram (a visual representation of the spectrum of frequencies in the audio file).\n",
    "\n",
    "\n",
    "* `__len__(self):`\n",
    "    This function tells you how many items are in the dataset. Keep in mind that this function is available in the original `Dataset` class in PyTorch but with the concept of inheritance, we are taking this function and overwriting it.\n",
    "\n",
    "* `__getitem__(self, idx)`:\n",
    "    This function is used to get a specific item from the dataset by its index (idx).\n",
    "    It retrieves the audio and its corresponding label for the given index and prepares them in the required format for the machine learning model. Keep in mind that this function is available in the original `Dataset` class in PyTorch but we also are taking this function and overwriting it.\n",
    "\n",
    "* `get_spectrogram(self, file_path)`:\n",
    "    This is a helper function to convert an audio file into a spectrogram.\n",
    "    It involves several steps:\n",
    "    * Loading the audio file.\n",
    "    * Computing its spectrogram, which is a visual way to represent the different frequencies present in the audio.\n",
    "    * Converting the spectrogram to a decibel (dB) scale, which makes it easier to visualize.\n",
    "    * Resizing the spectrogram to a fixed size, which is necessary because the machine learning model expects inputs of a consistent size."
   ]
  },
  {
   "cell_type": "code",
   "execution_count": null,
   "metadata": {
    "id": "M8XqYh0uVdDe"
   },
   "outputs": [],
   "source": [
    "class CustomAudioDataset(Dataset):\n",
    "  def __init__(self, dataframe):\n",
    "    self.dataframe = dataframe\n",
    "    self.labels = torch.Tensor(list(dataframe[\"Class\"])).type(torch.LongTensor).to(device)\n",
    "    self.audios = [torch.Tensor(self.get_spectrogram(path)).type(torch.FloatTensor) for path in dataframe['FilePath']]\n",
    "\n",
    "  def __len__(self):\n",
    "    return self.dataframe.shape[0]\n",
    "\n",
    "  def __getitem__(self, idx):\n",
    "    img_path = self.dataframe.iloc[idx, 0]\n",
    "    label = torch.Tensor(self.labels[idx]).to(device)\n",
    "    audio = (self.audios[idx]).unsqueeze(0).to(device)\n",
    "    return audio, label\n",
    "\n",
    "  def get_spectrogram(self, file_path):\n",
    "    sr = 22050 # Set the sample rate of the audio file\n",
    "    duration = 5 # Set the duration of the audio files\n",
    "\n",
    "    # Set the size of the spectrogram images\n",
    "    img_height = 128\n",
    "    img_width = 256\n",
    "\n",
    "    # Load the audio file\n",
    "    signal, sr = librosa.load(file_path, sr=22050, duration=duration)\n",
    "\n",
    "    # Compute the spectrogram\n",
    "    spec = librosa.feature.melspectrogram(y=signal, sr=sr, n_fft=2048, hop_length=512, n_mels=128)\n",
    "\n",
    "    # Convert the spectrogram to dB scale\n",
    "    spec_db = librosa.power_to_db(spec, ref=np.max)\n",
    "\n",
    "    # Resize the spectrogram to the desired shape\n",
    "    spec_resized = librosa.util.fix_length(spec_db, size = duration * sr // 512 + 1)\n",
    "    spec_resized = resize(spec_resized, (img_height, img_width), anti_aliasing=True)\n",
    "    return spec_resized"
   ]
  },
  {
   "cell_type": "markdown",
   "metadata": {
    "id": "xhODo1Go31aX"
   },
   "source": [
    "# 7. Create Dataset Objects\n",
    "In this cell we will create 3 objects from the dataset class we created before. Those will be for training, validation and testing."
   ]
  },
  {
   "cell_type": "code",
   "execution_count": 34,
   "metadata": {
    "id": "oGIgkQamZlj_"
   },
   "outputs": [],
   "source": [
    "train_dataset = CustomAudioDataset(dataframe=train)\n",
    "val_dataset = CustomAudioDataset(dataframe=val)\n",
    "test_dataset = CustomAudioDataset(dataframe=test)"
   ]
  },
  {
   "cell_type": "markdown",
   "metadata": {
    "id": "COfQ-SS-_VuO"
   },
   "source": [
    "# 8. Hyperparameters\n",
    "Now we are setting the training hyperparameters, we defined some variables which are the learning rate, batch size and training epoch."
   ]
  },
  {
   "cell_type": "code",
   "execution_count": 35,
   "metadata": {
    "id": "hVyPxzTdaNLH"
   },
   "outputs": [],
   "source": [
    "LR = 1e-4\n",
    "BATCH_SIZE = 16\n",
    "EPOCHS = 25"
   ]
  },
  {
   "cell_type": "markdown",
   "metadata": {
    "id": "WIOyWAak_qHy"
   },
   "source": [
    "# 9. DataLoaders\n",
    "PyTorch provides a class called DataLoader which allows us to create objects of it to simplify the training. Dataloader is an object that we can loop through it to train according to batches. When we start training, we loop through epochs, if you skip the batch size it means that the amount of training data in one batch is equal to the complete amount of training data, this method is not efficient and in most of the cases you need to train through using batches. Dataloader allows you to loop through the batches easily during the training. When you create a dataloader. You define the batch size and enable the `shuffle` to randomize the data and then you can loop through it in each epoch to train normally."
   ]
  },
  {
   "cell_type": "code",
   "execution_count": 37,
   "metadata": {
    "id": "dpx6JAIkaHbY"
   },
   "outputs": [],
   "source": [
    "train_loader = DataLoader(train_dataset, batch_size=BATCH_SIZE, shuffle=True)\n",
    "val_loader = DataLoader(val_dataset, batch_size=BATCH_SIZE, shuffle=True)\n",
    "test_loader = DataLoader(test_dataset, batch_size=BATCH_SIZE, shuffle=True)"
   ]
  },
  {
   "cell_type": "markdown",
   "metadata": {
    "id": "sWbNHGn3_3TL"
   },
   "source": [
    "# 10. Model\n",
    "\n",
    "This code defines a neural network class named Net which inherits from the class `nn.module` in PyTorch.\n",
    "\n",
    "* `__init__(self):`\n",
    "  This is where the neural network is set up. Each layer of the network is defined here.\n",
    "  self.conv1, self.conv2, self.conv3: These are convolutional layers. They are particularly good at processing data that has a grid-like topology, like images (or in this case, spectrograms from audio data). They work by sliding a small window over the input and transforming the section of data within this window at each step.\n",
    "  self.pooling: This is a pooling layer, which reduces the size of the input it's given, helping the network to focus on the most important information.\n",
    "  self.relu: This is an activation function that introduces non-linearity into the network (helping it learn complex patterns).\n",
    "  self.flatten: This layer flattens the output of the previous layers into a one-dimensional array, which can then be fed into traditional dense (fully connected) layers.\n",
    "  self.linear1, self.linear2, self.linear4: These are dense layers, where each neuron is connected to all neurons in the previous layer. They are good at learning complex relationships in data.\n",
    "  self.output: This is the final layer that outputs predictions. The number of neurons here is equal to the number of unique classes in your data.\n",
    "  self.dropout: This is a dropout layer, used to prevent overfitting (where the model learns the training data too well and performs poorly on new, unseen data).\n",
    "  \n",
    "  The firsr linear layer is taking the shape from the flatten, how we calculate the input shape? We know well from the function `get_spectrogram` in `CustomAudioDataset` that the input height is 128, and width is 256. So we keep reducing them by the following (1 is the input channel which is only 1 channel):\n",
    "  * Starting by (1,128,256)\n",
    "  * After conv1 will be (16,128,256)\n",
    "  * After first pooling will be (16,64,128)\n",
    "  * After conv2 will be (32,64,128)\n",
    "  * After second pooling will be (32,32,64)\n",
    "  * After conv3 will be (64,32,64)\n",
    "  * After third pooling will be (64,16,32)\n",
    "  So as per this flow, we know that the firsr linear layer input size is\n",
    "  (64 x 16 x 32)\n",
    "\n",
    "* `forward(self, x)`:\n",
    "  This function defines how the data flows through the network (from input to output).\n",
    "  The data (x) is passed through each layer in the order they were defined in __init__. After each convolutional and pooling layer, the data's shape changes.\n",
    "  After passing through all the layers, the network returns its final output."
   ]
  },
  {
   "cell_type": "code",
   "execution_count": 38,
   "metadata": {
    "colab": {
     "base_uri": "https://localhost:8080/"
    },
    "id": "Mjs684BmaOH9",
    "outputId": "71666dc8-7f16-4bf5-aecc-e79fafe68639"
   },
   "outputs": [
    {
     "name": "stdout",
     "output_type": "stream",
     "text": [
      "Net(\n",
      "  (conv1): Conv2d(1, 16, kernel_size=(3, 3), stride=(1, 1), padding=(1, 1))\n",
      "  (conv2): Conv2d(16, 32, kernel_size=(3, 3), stride=(1, 1), padding=(1, 1))\n",
      "  (conv3): Conv2d(32, 64, kernel_size=(3, 3), stride=(1, 1), padding=(1, 1))\n",
      "  (pooling): MaxPool2d(kernel_size=2, stride=2, padding=0, dilation=1, ceil_mode=False)\n",
      "  (relu): ReLU()\n",
      "  (flatten): Flatten(start_dim=1, end_dim=-1)\n",
      "  (linear1): Linear(in_features=32768, out_features=4096, bias=True)\n",
      "  (linear2): Linear(in_features=4096, out_features=1024, bias=True)\n",
      "  (linear4): Linear(in_features=1024, out_features=512, bias=True)\n",
      "  (output): Linear(in_features=512, out_features=12, bias=True)\n",
      "  (dropout): Dropout(p=0.5, inplace=False)\n",
      ")\n"
     ]
    }
   ],
   "source": [
    "class Net(nn.Module):\n",
    "  def __init__(self):\n",
    "    super().__init__()\n",
    "\n",
    "    self.conv1 = nn.Conv2d(1, 16, kernel_size = 3, padding = 1) # First Convolution layer\n",
    "    self.conv2 = nn.Conv2d(16, 32, kernel_size = 3, stride = 1, padding = 1) # Second Convolution layer\n",
    "    self.conv3 = nn.Conv2d(32, 64, kernel_size = 3, stride = 1, padding = 1) # Third Convolution layer\n",
    "    self.pooling = nn.MaxPool2d(2,2) # The pooling layer, we will be using the same layer after each conv2d.\n",
    "    self.relu = nn.ReLU() # ReLU Activation function\n",
    "\n",
    "    self.flatten = nn.Flatten() # Flatten and vectorize the output feature maps that somes from the final convolution layer.\n",
    "    self.linear1 = nn.Linear((64 * 16 * 32), 4096) # Traditional Dense (Linear)\n",
    "    self.linear2 = nn.Linear(4096, 1024) # Traditional Dense (Linear)\n",
    "    self.linear4 = nn.Linear(1024, 512) # Traditional Dense (Linear)\n",
    "    self.output = nn.Linear(512, len(data_df['Class'].unique())) # Output Linear Layer\n",
    "\n",
    "    self.dropout = nn.Dropout(0.5)\n",
    "\n",
    "  def forward(self, x):\n",
    "    x = self.conv1(x) # -> Outputs: (16, (128, 256))\n",
    "    x = self.pooling(x)# -> Outputs: (16, (64, 128))\n",
    "    x = self.relu(x)\n",
    "    x = self.dropout(x)\n",
    "    x = self.conv2(x) # -> Outputs: (32, (64, 128))\n",
    "    x = self.pooling(x) # -> Outputs: (32, (32, 64))\n",
    "    x = self.relu(x)\n",
    "    x = self.dropout(x)\n",
    "    x = self.conv3(x) # -> Outputs: (64, (32, 64))\n",
    "    x = self.pooling(x) # -> Outputs: (64, (16, 32))\n",
    "    x = self.relu(x)\n",
    "    x = self.dropout(x)\n",
    "    x = x.view(x.size(0), -1)\n",
    "\n",
    "    x = self.flatten(x)\n",
    "\n",
    "    x = self.linear1(x)\n",
    "    x = self.dropout(x)\n",
    "\n",
    "    x = self.linear2(x)\n",
    "    x = self.dropout(x)\n",
    "\n",
    "\n",
    "    x = self.linear4(x)\n",
    "    x = self.dropout(x)\n",
    "\n",
    "    x = self.output(x)\n",
    "\n",
    "    return x\n",
    "\n",
    "model = Net().to(device) # Create an instance of the model and move it to the GPU Device\n",
    "\n",
    "\n",
    "print(model)"
   ]
  },
  {
   "cell_type": "markdown",
   "metadata": {
    "id": "gMLpr3SlKRhs"
   },
   "source": [
    "# 11. Model Summary\n",
    "This cell is optional, here we show only the summary of the model and what is the output size for each layer. keep in mind that -1 here will be replaced by the batch size."
   ]
  },
  {
   "cell_type": "code",
   "execution_count": 39,
   "metadata": {
    "colab": {
     "base_uri": "https://localhost:8080/"
    },
    "id": "Ii9mJSYAorqR",
    "outputId": "c17bedaf-1425-4eb3-bbe3-64b478199b40"
   },
   "outputs": [
    {
     "name": "stdout",
     "output_type": "stream",
     "text": [
      "----------------------------------------------------------------\n",
      "        Layer (type)               Output Shape         Param #\n",
      "================================================================\n",
      "            Conv2d-1         [-1, 16, 128, 256]             160\n",
      "         MaxPool2d-2          [-1, 16, 64, 128]               0\n",
      "              ReLU-3          [-1, 16, 64, 128]               0\n",
      "           Dropout-4          [-1, 16, 64, 128]               0\n",
      "            Conv2d-5          [-1, 32, 64, 128]           4,640\n",
      "         MaxPool2d-6           [-1, 32, 32, 64]               0\n",
      "              ReLU-7           [-1, 32, 32, 64]               0\n",
      "           Dropout-8           [-1, 32, 32, 64]               0\n",
      "            Conv2d-9           [-1, 64, 32, 64]          18,496\n",
      "        MaxPool2d-10           [-1, 64, 16, 32]               0\n",
      "             ReLU-11           [-1, 64, 16, 32]               0\n",
      "          Dropout-12           [-1, 64, 16, 32]               0\n",
      "          Flatten-13                [-1, 32768]               0\n",
      "           Linear-14                 [-1, 4096]     134,221,824\n",
      "          Dropout-15                 [-1, 4096]               0\n",
      "           Linear-16                 [-1, 1024]       4,195,328\n",
      "          Dropout-17                 [-1, 1024]               0\n",
      "           Linear-18                  [-1, 512]         524,800\n",
      "          Dropout-19                  [-1, 512]               0\n",
      "           Linear-20                   [-1, 12]           6,156\n",
      "================================================================\n",
      "Total params: 138,971,404\n",
      "Trainable params: 138,971,404\n",
      "Non-trainable params: 0\n",
      "----------------------------------------------------------------\n",
      "Input size (MB): 0.12\n",
      "Forward/backward pass size (MB): 12.59\n",
      "Params size (MB): 530.13\n",
      "Estimated Total Size (MB): 542.84\n",
      "----------------------------------------------------------------\n"
     ]
    }
   ],
   "source": [
    "from torchsummary import summary # Visualize the model layers and number of parameters\n",
    "summary(model, (1, 128, 256)) # Visualize the model layers by taking the input size expected (-1 in the output will be replaced by the batch size in training)"
   ]
  },
  {
   "cell_type": "markdown",
   "metadata": {
    "id": "zVqfUtXHKm8S"
   },
   "source": [
    "# 12. Loss and Optimizer\n",
    "In the cell below, we will create the loss function which will be the Cross Entropy loss. Also we will have create the Adam optimizer and we will provide to it the parameters of the model we created together with the learning rate."
   ]
  },
  {
   "cell_type": "code",
   "execution_count": 40,
   "metadata": {
    "id": "Rl-DZMsycuTQ"
   },
   "outputs": [],
   "source": [
    "# Define loss function and optimizer\n",
    "criterion = nn.CrossEntropyLoss() # Cross Entropy Loss\n",
    "optimizer = Adam(model.parameters(), lr=LR) # Adam optimizer"
   ]
  },
  {
   "cell_type": "markdown",
   "metadata": {
    "id": "YcyloTU8K4MZ"
   },
   "source": [
    "# 13. Training\n",
    "Now comes the training part. If you know well the training process of deep learning. You will just need to know PyTorch syntax. We start by initializing the for loop with the specified number of epochs which we defined before. But before that we define 4 lists and inside the loop we define another 4 variables.\n",
    "\n",
    "## Variables:\n",
    "* `total_acc_train`: here we will keep tracking of the training accuracy progress during each epoch, we calculate the accuracy during the batch size and we print it in the end for tracking the accuracy on each epoch.\n",
    "\n",
    "* `total_loss_train`: here we will keep tracking of the training loss progress during each epoch, we calculate the accuracy during the batch size and we use the loss value to optimize and modify the model parameters.\n",
    "\n",
    "* `total_acc_val`: here we will keep tracking of the validation accuracy progress during each epoch, we calculate the accuracy during the batch size and we print it in the end for tracking the accuracy on each epoch and help us know if there is any overfitting.\n",
    "\n",
    "* `total_loss_val`: here we will keep tracking of the validation loss progress during each epoch, we calculate the accuracy during the batch size.\n",
    "\n",
    "## Lists:\n",
    "* `total_acc_train_plot`: We append the losses of the training accuracy to visualize them at the end.\n",
    "\n",
    "* `total_loss_train_plot`: We append the losses of the training to visualize them at the end.\n",
    "\n",
    "* `total_acc_validation_plot`: We append the losses of the validation accuracy to visualize them at the end.\n",
    "\n",
    "* `total_loss_validation_plot`: We append the losses of the validation to visualize them at the end.\n",
    "\n",
    "Then, we start to loop through the training dataloaders, we use the enumerate functionality to loop through data and indices at the same time. We are not using the indices here, but lets kept it just if you want to try different stuff with the loop or debug. In the second loop, we start by getting our data from the data loader, then we move the inputs and labels to the cuda device. We allow the model to make a prediction or what is called forward propagation, then we get the output of the model and compare it with our original output using the loss criteration. We add the loss amount to total_loss_train. Additionally, we get the accuracy by comparing the correct batch with the predicted batch and we add it to the total_acc_train. Then we do the `batch_loss.backward()` which makes the backpropagation and we use the optimizer to do a step on the weights using `optimizer.step()` and then we reset the optimizer gradients using `optimizer.zero_grad()` which is a very important step that has to be done before proceeding.\n",
    "\n",
    "After that we exit the batch loop (train dataloader loop) and we start with the validation. Don't forget that we are still in the same epoch. In side that we start by with `torch.no_grad()` so that we freeze the weights, which means that we need the model to do predicitons without being trained. We just need to see the validation preformance. Then we do the same steps which are predicting and calculating loss and accuracy and storing these values.\n",
    "\n",
    "At the end we print after each epoch the epoch number, training loss, training accuracy, validation loss and validation accuracy. Accuracies are calculated by dividing the right predictions by the complete number of samples and multiplying by 100. Losses are being divided by 1000 just to normalize the values and avoid large values.\n",
    "\n"
   ]
  },
  {
   "cell_type": "code",
   "execution_count": null,
   "metadata": {
    "colab": {
     "base_uri": "https://localhost:8080/"
    },
    "id": "vd3UUvybc8Tl",
    "outputId": "ce0ba3ba-53e4-4ac0-a562-ead41cd6332a"
   },
   "outputs": [
    {
     "name": "stdout",
     "output_type": "stream",
     "text": [
      "Epoch 1/25, Train Loss: 29.3048 Train Accuracy 10.7669 Validation Loss: 1.5507 Validation Accuracy: 12.9611 -- Time/Epoch: 18.0 Seconds.\n",
      "\n",
      "Epoch 2/25, Train Loss: 7.1539 Train Accuracy 12.4119 Validation Loss: 1.54 Validation Accuracy: 11.2662 -- Time/Epoch: 17.92 Seconds.\n",
      "\n",
      "Epoch 3/25, Train Loss: 7.0109 Train Accuracy 14.5482 Validation Loss: 1.4718 Validation Accuracy: 18.0459 -- Time/Epoch: 17.87 Seconds.\n",
      "\n",
      "Epoch 4/25, Train Loss: 6.5764 Train Accuracy 21.9825 Validation Loss: 1.3249 Validation Accuracy: 28.4148 -- Time/Epoch: 17.92 Seconds.\n",
      "\n",
      "Epoch 5/25, Train Loss: 5.9859 Train Accuracy 30.2072 Validation Loss: 1.2505 Validation Accuracy: 32.004 -- Time/Epoch: 17.89 Seconds.\n",
      "\n",
      "Epoch 6/25, Train Loss: 5.5383 Train Accuracy 34.7362 Validation Loss: 1.1395 Validation Accuracy: 37.7866 -- Time/Epoch: 17.95 Seconds.\n",
      "\n",
      "Epoch 7/25, Train Loss: 5.1693 Train Accuracy 40.2905 Validation Loss: 1.0353 Validation Accuracy: 42.8714 -- Time/Epoch: 17.95 Seconds.\n",
      "\n",
      "Epoch 8/25, Train Loss: 4.8427 Train Accuracy 44.1359 Validation Loss: 1.0389 Validation Accuracy: 44.666 -- Time/Epoch: 17.91 Seconds.\n",
      "\n",
      "Epoch 9/25, Train Loss: 4.5464 Train Accuracy 47.1694 Validation Loss: 0.8757 Validation Accuracy: 51.8445 -- Time/Epoch: 17.95 Seconds.\n",
      "\n",
      "Epoch 10/25, Train Loss: 4.0763 Train Accuracy 53.1724 Validation Loss: 0.8132 Validation Accuracy: 57.0289 -- Time/Epoch: 17.89 Seconds.\n",
      "\n",
      "Epoch 11/25, Train Loss: 3.5389 Train Accuracy 59.389 Validation Loss: 0.6858 Validation Accuracy: 64.2074 -- Time/Epoch: 17.92 Seconds.\n",
      "\n",
      "Epoch 12/25, Train Loss: 3.0501 Train Accuracy 64.922 Validation Loss: 0.6231 Validation Accuracy: 67.996 -- Time/Epoch: 17.9 Seconds.\n",
      "\n",
      "Epoch 13/25, Train Loss: 2.6789 Train Accuracy 70.0278 Validation Loss: 0.5693 Validation Accuracy: 72.2832 -- Time/Epoch: 17.96 Seconds.\n",
      "\n",
      "Epoch 14/25, Train Loss: 2.2801 Train Accuracy 74.3431 Validation Loss: 0.4422 Validation Accuracy: 77.1685 -- Time/Epoch: 17.95 Seconds.\n",
      "\n",
      "Epoch 15/25, Train Loss: 2.0211 Train Accuracy 76.8426 Validation Loss: 0.4331 Validation Accuracy: 76.3709 -- Time/Epoch: 17.94 Seconds.\n",
      "\n",
      "Epoch 16/25, Train Loss: 1.8071 Train Accuracy 79.342 Validation Loss: 0.3972 Validation Accuracy: 79.5613 -- Time/Epoch: 17.95 Seconds.\n",
      "\n",
      "Epoch 17/25, Train Loss: 1.6137 Train Accuracy 82.0765 Validation Loss: 0.3519 Validation Accuracy: 80.3589 -- Time/Epoch: 17.89 Seconds.\n",
      "\n",
      "Epoch 18/25, Train Loss: 1.488 Train Accuracy 83.3583 Validation Loss: 0.3506 Validation Accuracy: 82.3529 -- Time/Epoch: 17.97 Seconds.\n",
      "\n",
      "Epoch 19/25, Train Loss: 1.2418 Train Accuracy 86.2423 Validation Loss: 0.2147 Validation Accuracy: 88.9332 -- Time/Epoch: 17.9 Seconds.\n",
      "\n",
      "Epoch 20/25, Train Loss: 1.1849 Train Accuracy 86.6054 Validation Loss: 0.3177 Validation Accuracy: 85.344 -- Time/Epoch: 17.91 Seconds.\n",
      "\n",
      "Epoch 21/25, Train Loss: 1.0964 Train Accuracy 88.7631 Validation Loss: 0.3015 Validation Accuracy: 85.1446 -- Time/Epoch: 17.95 Seconds.\n",
      "\n",
      "Epoch 22/25, Train Loss: 1.02 Train Accuracy 88.9981 Validation Loss: 0.2627 Validation Accuracy: 87.338 -- Time/Epoch: 17.96 Seconds.\n",
      "\n",
      "Epoch 23/25, Train Loss: 0.8852 Train Accuracy 90.9848 Validation Loss: 0.1911 Validation Accuracy: 91.0269 -- Time/Epoch: 17.96 Seconds.\n",
      "\n",
      "Epoch 24/25, Train Loss: 0.8473 Train Accuracy 90.7498 Validation Loss: 0.2121 Validation Accuracy: 90.1296 -- Time/Epoch: 17.92 Seconds.\n",
      "\n",
      "Epoch 25/25, Train Loss: 0.8072 Train Accuracy 90.9635 Validation Loss: 0.2174 Validation Accuracy: 90.4287 -- Time/Epoch: 17.97 Seconds.\n",
      "\n"
     ]
    }
   ],
   "source": [
    "total_loss_train_plot = [] # Empty list to be filled with train loss after each epoch\n",
    "total_loss_validation_plot = [] # Empty list to be filled with validation loss after each epoch\n",
    "total_acc_train_plot = [] # Empty list to be filled with train accuracy after each epoch\n",
    "total_acc_validation_plot = [] # Empty list to be filled with validation accuracy after each epoch\n",
    "\n",
    "\n",
    "for epoch in range(EPOCHS):\n",
    "  start_time = time.time() # We use this to calculate the time of each epoch, it starts a counter once called\n",
    "  total_acc_train = 0\n",
    "  total_loss_train = 0\n",
    "  total_loss_val = 0\n",
    "  total_acc_val = 0\n",
    "\n",
    "  for inputs, labels in train_loader:\n",
    "    outputs = model(inputs)\n",
    "    train_loss = criterion(outputs, labels)\n",
    "    total_loss_train += train_loss.item()\n",
    "    train_loss.backward()\n",
    "\n",
    "    train_acc = (torch.argmax(outputs, axis = 1) == labels).sum().item()\n",
    "    total_acc_train += train_acc\n",
    "    optimizer.step()\n",
    "    optimizer.zero_grad()\n",
    "\n",
    "  with torch.no_grad():\n",
    "    for inputs, labels in val_loader:\n",
    "      outputs = model(inputs)\n",
    "      val_loss = criterion(outputs, labels)\n",
    "      total_loss_val += val_loss.item()\n",
    "\n",
    "      val_acc = (torch.argmax(outputs, axis = 1) == labels).sum().item()\n",
    "      total_acc_val += val_acc\n",
    "\n",
    "  total_loss_train_plot.append(round(total_loss_train/1000, 4))\n",
    "  total_loss_validation_plot.append(round(total_loss_val/1000, 4))\n",
    "  total_acc_train_plot.append(round(total_acc_train/(train_dataset.__len__())*100, 4))\n",
    "  total_acc_validation_plot.append(round(total_acc_val/(val_dataset.__len__())*100, 4))\n",
    "  epoch_string = f\"\"\"\n",
    "                  Epoch: {epoch+1}/{EPOCHS}, \n",
    "                  Train Loss: {round(total_loss_train/100, 4)}, \n",
    "                  Train Accuracy: {round((total_acc_train/train_dataset.__len__() * 100), 4)}, \n",
    "                  Validation Loss: {round(total_loss_val/100, 4)}, \n",
    "                  Validation Accuracy: {round((total_acc_val/val_dataset.__len__() * 100), 4)}\n",
    "                  \"\"\"\n",
    "  print(epoch_string)\n",
    "  print(\"=\"*30)"
   ]
  },
  {
   "cell_type": "markdown",
   "metadata": {
    "id": "pJf4dDRBT8Ms"
   },
   "source": [
    "# 14. Testing\n",
    "Now in this section, we will be testing our model, we will start the code by with `torch.no_grad():` which means that we are telling PyTorch that we don't want to train the model we will be using it only for testing. Then we will declare initial loss and accuracy as zeros, we will start by looping through the testing dataloader like we did before during training. Inside the loop, we got our data and we moved it to our GPU (`cuda`) and then we ran our model on the data and we got the predictions. After that we get the loss and then we add it to our overall loss, we do the same for accuracy, and finally we print the accuracy."
   ]
  },
  {
   "cell_type": "code",
   "execution_count": 42,
   "metadata": {
    "colab": {
     "base_uri": "https://localhost:8080/"
    },
    "id": "4lOb5Xa9eFc6",
    "outputId": "2c6b8f43-2629-4799-8fbf-64cd3c125e0f"
   },
   "outputs": [
    {
     "name": "stdout",
     "output_type": "stream",
     "text": [
      "Accuracy Score is: 88.24%\n"
     ]
    }
   ],
   "source": [
    "with torch.no_grad():\n",
    "  total_loss_test = 0\n",
    "  total_acc_test = 0\n",
    "  for indx, (input, labels) in enumerate(test_loader):\n",
    "\n",
    "    prediction = model(input)\n",
    "\n",
    "    acc = (torch.argmax(prediction, axis = 1) == labels).sum().item()\n",
    "    total_acc_test += acc\n",
    "\n",
    "print(f\"Accuracy Score is: {round((total_acc_test/test_dataset.__len__())*100, 2)}%\")"
   ]
  },
  {
   "cell_type": "markdown",
   "metadata": {
    "id": "47uUczlbUGMi"
   },
   "source": [
    "# 15. Plotting Training Progress\n",
    "Let's plot the training and validation progress through out the EPOCHS. The results may not be very good, feel free to play with the layers, hyperparameters and text filteration to achieve better performance!"
   ]
  },
  {
   "cell_type": "code",
   "execution_count": 43,
   "metadata": {
    "colab": {
     "base_uri": "https://localhost:8080/",
     "height": 507
    },
    "id": "z9A8soPovvOj",
    "outputId": "5e01b9cd-d439-4b69-dc00-1f3e04b68acf"
   },
   "outputs": [
    {
     "data": {
      "image/png": "[encoded data removed]",
      "text/plain": [
       "<Figure size 1500x500 with 2 Axes>"
      ]
     },
     "metadata": {},
     "output_type": "display_data"
    }
   ],
   "source": [
    "fig, axs = plt.subplots(nrows=1, ncols=2, figsize=(15, 5))\n",
    "\n",
    "axs[0].plot(total_loss_train_plot, label='Training Loss')\n",
    "axs[0].plot(total_loss_validation_plot, label='Validation Loss')\n",
    "axs[0].set_title('Training and Validation Loss over Epochs')\n",
    "axs[0].set_xlabel('Epochs')\n",
    "axs[0].set_ylabel('Loss')\n",
    "axs[1].set_ylim([0, 2])\n",
    "axs[0].legend()\n",
    "\n",
    "axs[1].plot(total_acc_train_plot, label='Training Accuracy')\n",
    "axs[1].plot(total_acc_validation_plot, label='Validation Accuracy')\n",
    "axs[1].set_title('Training and Validation Accuracy over Epochs')\n",
    "axs[1].set_xlabel('Epochs')\n",
    "axs[1].set_ylabel('Accuracy')\n",
    "axs[1].set_ylim([0, 100])\n",
    "axs[1].legend()\n",
    "\n",
    "plt.tight_layout()\n",
    "\n",
    "plt.show()"
   ]
  },
  {
   "cell_type": "code",
   "execution_count": null,
   "metadata": {
    "id": "gYG69QqrYJan"
   },
   "outputs": [],
   "source": []
  }
 ],
 "metadata": {
  "accelerator": "GPU",
  "colab": {
   "gpuType": "T4",
   "provenance": []
  },
  "kernelspec": {
   "display_name": "Python 3",
   "name": "python3"
  },
  "language_info": {
   "name": "python"
  }
 },
 "nbformat": 4,
 "nbformat_minor": 0
}
