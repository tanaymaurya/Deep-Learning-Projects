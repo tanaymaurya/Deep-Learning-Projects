{
  "nbformat": 4,
  "nbformat_minor": 0,
  "metadata": {
    "colab": {
      "provenance": [],
      "gpuType": "T4"
    },
    "kernelspec": {
      "name": "python3",
      "display_name": "Python 3"
    },
    "language_info": {
      "name": "python"
    },
    "accelerator": "GPU"
  },
  "cells": [
    {
      "cell_type": "markdown",
      "source": [
        "# 1. Initializations and Dataset Download"
      ],
      "metadata": {
        "id": "x15poca7jW-Z"
      }
    },
    {
      "cell_type": "code",
      "execution_count": 1,
      "metadata": {
        "colab": {
          "base_uri": "https://localhost:8080/"
        },
        "id": "VttBdozUd2PL",
        "outputId": "d490c112-7d71-453d-bece-1f288028a2fd"
      },
      "outputs": [
        {
          "output_type": "stream",
          "name": "stdout",
          "text": [
            "Please provide your Kaggle credentials to download this dataset. Learn more: http://bit.ly/kaggle-creds\n",
            "Your Kaggle username: omaratef3221\n",
            "Your Kaggle Key: ··········\n",
            "Downloading rice-type-classification.zip to ./rice-type-classification\n"
          ]
        },
        {
          "output_type": "stream",
          "name": "stderr",
          "text": [
            "100%|██████████| 888k/888k [00:00<00:00, 965kB/s]"
          ]
        },
        {
          "output_type": "stream",
          "name": "stdout",
          "text": [
            "\n"
          ]
        },
        {
          "output_type": "stream",
          "name": "stderr",
          "text": [
            "\n"
          ]
        }
      ],
      "source": [
        "!pip install opendatasets --quiet\n",
        "import opendatasets as od\n",
        "od.download(\"https://www.kaggle.com/datasets/mssmartypants/rice-type-classification\")"
      ]
    },
    {
      "cell_type": "markdown",
      "source": [
        "# 2. Imports\n",
        "Lets start by getting all our imports, keep in mind that PyTorch is not automatically detects and trains on GPU, you have to tell it to use cuda. In case you want to train on Mac Silicon replace cuda with mps."
      ],
      "metadata": {
        "id": "l7fKCtFQjakg"
      }
    },
    {
      "cell_type": "code",
      "source": [
        "import torch # Torch main framework\n",
        "import torch.nn as nn # Used for getting the NN Layers\n",
        "from torch.optim import Adam # Adam Optimizer\n",
        "from torch.utils.data import Dataset, DataLoader # Dataset class and DataLoader for creatning the objects\n",
        "from torchsummary import summary # Visualize the model layers and number of parameters\n",
        "from sklearn.model_selection import train_test_split # Split the dataset (train, validation, test)\n",
        "from sklearn.metrics import accuracy_score # Calculate the testing Accuracy\n",
        "import matplotlib.pyplot as plt # Plotting the training progress at the end\n",
        "import pandas as pd # Data reading and preprocessing\n",
        "import numpy as np # Mathematical operations\n",
        "\n",
        "device = 'cuda' if torch.cuda.is_available() else 'cpu' # detect the GPU if any, if not use CPU, change cuda to mps if you have a mac"
      ],
      "metadata": {
        "id": "IgTlDLBpeqcq"
      },
      "execution_count": 2,
      "outputs": []
    },
    {
      "cell_type": "markdown",
      "source": [
        "# 3. Dataset\n",
        "Now lets read the dataset, this lab was developed by Google Colab, so dataset downloaded and read from the path shown below. We will be reading the dataset using pandas `read_csv` function, then we will remove the nulls/missing data from our dataframe as a filteration process, keep in mind that this process is essential as missing data will stop the code from training. You can skip dropping the missing values if you are 100% sure that there are no missing values in your data. Also, we dropped the `id` column because it will not affect our classification at all. We printed the output possibilities as we can see its a binary classification. We printed also the data shape (rows, columns) After that we printed the dataset shape and we used the `head()` function to visualize the first 5 rows, this step is optional as it just allows us to see the first 5 rows and will not affect the training process."
      ],
      "metadata": {
        "id": "o4nmUYiVjfMm"
      }
    },
    {
      "cell_type": "code",
      "source": [
        "data_df = pd.read_csv(\"/content/rice-type-classification/riceClassification.csv\") # Read the data\n",
        "data_df.dropna(inplace = True) # Drop missing/null values\n",
        "data_df.drop([\"id\"], axis =1, inplace = True) # Drop Id column\n",
        "print(\"Output possibilities: \", data_df[\"Class\"].unique()) # Possible Outputs\n",
        "print(\"Data Shape (rows, cols): \", data_df.shape) # Print data shape\n",
        "data_df.head() # Print/visualize the first 5 rows of the data"
      ],
      "metadata": {
        "colab": {
          "base_uri": "https://localhost:8080/",
          "height": 242
        },
        "id": "_ZokM1pVfAGN",
        "outputId": "5a19489f-db59-4a5f-9d5c-f1456d7e2cf3"
      },
      "execution_count": 3,
      "outputs": [
        {
          "output_type": "stream",
          "name": "stdout",
          "text": [
            "Output possibilities:  [1 0]\n",
            "Data Shape (rows, cols):  (18185, 11)\n"
          ]
        },
        {
          "output_type": "execute_result",
          "data": {
            "text/plain": [
              "   Area  MajorAxisLength  MinorAxisLength  Eccentricity  ConvexArea  \\\n",
              "0  4537        92.229316        64.012769      0.719916        4677   \n",
              "1  2872        74.691881        51.400454      0.725553        3015   \n",
              "2  3048        76.293164        52.043491      0.731211        3132   \n",
              "3  3073        77.033628        51.928487      0.738639        3157   \n",
              "4  3693        85.124785        56.374021      0.749282        3802   \n",
              "\n",
              "   EquivDiameter    Extent  Perimeter  Roundness  AspectRation  Class  \n",
              "0      76.004525  0.657536    273.085   0.764510      1.440796      1  \n",
              "1      60.471018  0.713009    208.317   0.831658      1.453137      1  \n",
              "2      62.296341  0.759153    210.012   0.868434      1.465950      1  \n",
              "3      62.551300  0.783529    210.657   0.870203      1.483456      1  \n",
              "4      68.571668  0.769375    230.332   0.874743      1.510000      1  "
            ],
            "text/html": [
              "\n",
              "  <div id=\"df-18fb680a-57db-4df4-920e-b09a7a4547d5\" class=\"colab-df-container\">\n",
              "    <div>\n",
              "<style scoped>\n",
              "    .dataframe tbody tr th:only-of-type {\n",
              "        vertical-align: middle;\n",
              "    }\n",
              "\n",
              "    .dataframe tbody tr th {\n",
              "        vertical-align: top;\n",
              "    }\n",
              "\n",
              "    .dataframe thead th {\n",
              "        text-align: right;\n",
              "    }\n",
              "</style>\n",
              "<table border=\"1\" class=\"dataframe\">\n",
              "  <thead>\n",
              "    <tr style=\"text-align: right;\">\n",
              "      <th></th>\n",
              "      <th>Area</th>\n",
              "      <th>MajorAxisLength</th>\n",
              "      <th>MinorAxisLength</th>\n",
              "      <th>Eccentricity</th>\n",
              "      <th>ConvexArea</th>\n",
              "      <th>EquivDiameter</th>\n",
              "      <th>Extent</th>\n",
              "      <th>Perimeter</th>\n",
              "      <th>Roundness</th>\n",
              "      <th>AspectRation</th>\n",
              "      <th>Class</th>\n",
              "    </tr>\n",
              "  </thead>\n",
              "  <tbody>\n",
              "    <tr>\n",
              "      <th>0</th>\n",
              "      <td>4537</td>\n",
              "      <td>92.229316</td>\n",
              "      <td>64.012769</td>\n",
              "      <td>0.719916</td>\n",
              "      <td>4677</td>\n",
              "      <td>76.004525</td>\n",
              "      <td>0.657536</td>\n",
              "      <td>273.085</td>\n",
              "      <td>0.764510</td>\n",
              "      <td>1.440796</td>\n",
              "      <td>1</td>\n",
              "    </tr>\n",
              "    <tr>\n",
              "      <th>1</th>\n",
              "      <td>2872</td>\n",
              "      <td>74.691881</td>\n",
              "      <td>51.400454</td>\n",
              "      <td>0.725553</td>\n",
              "      <td>3015</td>\n",
              "      <td>60.471018</td>\n",
              "      <td>0.713009</td>\n",
              "      <td>208.317</td>\n",
              "      <td>0.831658</td>\n",
              "      <td>1.453137</td>\n",
              "      <td>1</td>\n",
              "    </tr>\n",
              "    <tr>\n",
              "      <th>2</th>\n",
              "      <td>3048</td>\n",
              "      <td>76.293164</td>\n",
              "      <td>52.043491</td>\n",
              "      <td>0.731211</td>\n",
              "      <td>3132</td>\n",
              "      <td>62.296341</td>\n",
              "      <td>0.759153</td>\n",
              "      <td>210.012</td>\n",
              "      <td>0.868434</td>\n",
              "      <td>1.465950</td>\n",
              "      <td>1</td>\n",
              "    </tr>\n",
              "    <tr>\n",
              "      <th>3</th>\n",
              "      <td>3073</td>\n",
              "      <td>77.033628</td>\n",
              "      <td>51.928487</td>\n",
              "      <td>0.738639</td>\n",
              "      <td>3157</td>\n",
              "      <td>62.551300</td>\n",
              "      <td>0.783529</td>\n",
              "      <td>210.657</td>\n",
              "      <td>0.870203</td>\n",
              "      <td>1.483456</td>\n",
              "      <td>1</td>\n",
              "    </tr>\n",
              "    <tr>\n",
              "      <th>4</th>\n",
              "      <td>3693</td>\n",
              "      <td>85.124785</td>\n",
              "      <td>56.374021</td>\n",
              "      <td>0.749282</td>\n",
              "      <td>3802</td>\n",
              "      <td>68.571668</td>\n",
              "      <td>0.769375</td>\n",
              "      <td>230.332</td>\n",
              "      <td>0.874743</td>\n",
              "      <td>1.510000</td>\n",
              "      <td>1</td>\n",
              "    </tr>\n",
              "  </tbody>\n",
              "</table>\n",
              "</div>\n",
              "    <div class=\"colab-df-buttons\">\n",
              "\n",
              "  <div class=\"colab-df-container\">\n",
              "    <button class=\"colab-df-convert\" onclick=\"convertToInteractive('df-18fb680a-57db-4df4-920e-b09a7a4547d5')\"\n",
              "            title=\"Convert this dataframe to an interactive table.\"\n",
              "            style=\"display:none;\">\n",
              "\n",
              "  <svg xmlns=\"http://www.w3.org/2000/svg\" height=\"24px\" viewBox=\"0 -960 960 960\">\n",
              "    <path d=\"M120-120v-720h720v720H120Zm60-500h600v-160H180v160Zm220 220h160v-160H400v160Zm0 220h160v-160H400v160ZM180-400h160v-160H180v160Zm440 0h160v-160H620v160ZM180-180h160v-160H180v160Zm440 0h160v-160H620v160Z\"/>\n",
              "  </svg>\n",
              "    </button>\n",
              "\n",
              "  <style>\n",
              "    .colab-df-container {\n",
              "      display:flex;\n",
              "      gap: 12px;\n",
              "    }\n",
              "\n",
              "    .colab-df-convert {\n",
              "      background-color: #E8F0FE;\n",
              "      border: none;\n",
              "      border-radius: 50%;\n",
              "      cursor: pointer;\n",
              "      display: none;\n",
              "      fill: #1967D2;\n",
              "      height: 32px;\n",
              "      padding: 0 0 0 0;\n",
              "      width: 32px;\n",
              "    }\n",
              "\n",
              "    .colab-df-convert:hover {\n",
              "      background-color: #E2EBFA;\n",
              "      box-shadow: 0px 1px 2px rgba(60, 64, 67, 0.3), 0px 1px 3px 1px rgba(60, 64, 67, 0.15);\n",
              "      fill: #174EA6;\n",
              "    }\n",
              "\n",
              "    .colab-df-buttons div {\n",
              "      margin-bottom: 4px;\n",
              "    }\n",
              "\n",
              "    [theme=dark] .colab-df-convert {\n",
              "      background-color: #3B4455;\n",
              "      fill: #D2E3FC;\n",
              "    }\n",
              "\n",
              "    [theme=dark] .colab-df-convert:hover {\n",
              "      background-color: #434B5C;\n",
              "      box-shadow: 0px 1px 3px 1px rgba(0, 0, 0, 0.15);\n",
              "      filter: drop-shadow(0px 1px 2px rgba(0, 0, 0, 0.3));\n",
              "      fill: #FFFFFF;\n",
              "    }\n",
              "  </style>\n",
              "\n",
              "    <script>\n",
              "      const buttonEl =\n",
              "        document.querySelector('#df-18fb680a-57db-4df4-920e-b09a7a4547d5 button.colab-df-convert');\n",
              "      buttonEl.style.display =\n",
              "        google.colab.kernel.accessAllowed ? 'block' : 'none';\n",
              "\n",
              "      async function convertToInteractive(key) {\n",
              "        const element = document.querySelector('#df-18fb680a-57db-4df4-920e-b09a7a4547d5');\n",
              "        const dataTable =\n",
              "          await google.colab.kernel.invokeFunction('convertToInteractive',\n",
              "                                                    [key], {});\n",
              "        if (!dataTable) return;\n",
              "\n",
              "        const docLinkHtml = 'Like what you see? Visit the ' +\n",
              "          '<a target=\"_blank\" href=https://colab.research.google.com/notebooks/data_table.ipynb>data table notebook</a>'\n",
              "          + ' to learn more about interactive tables.';\n",
              "        element.innerHTML = '';\n",
              "        dataTable['output_type'] = 'display_data';\n",
              "        await google.colab.output.renderOutput(dataTable, element);\n",
              "        const docLink = document.createElement('div');\n",
              "        docLink.innerHTML = docLinkHtml;\n",
              "        element.appendChild(docLink);\n",
              "      }\n",
              "    </script>\n",
              "  </div>\n",
              "\n",
              "\n",
              "<div id=\"df-ce0e3dce-2fa0-4fac-9c07-d1c3dbb0795b\">\n",
              "  <button class=\"colab-df-quickchart\" onclick=\"quickchart('df-ce0e3dce-2fa0-4fac-9c07-d1c3dbb0795b')\"\n",
              "            title=\"Suggest charts\"\n",
              "            style=\"display:none;\">\n",
              "\n",
              "<svg xmlns=\"http://www.w3.org/2000/svg\" height=\"24px\"viewBox=\"0 0 24 24\"\n",
              "     width=\"24px\">\n",
              "    <g>\n",
              "        <path d=\"M19 3H5c-1.1 0-2 .9-2 2v14c0 1.1.9 2 2 2h14c1.1 0 2-.9 2-2V5c0-1.1-.9-2-2-2zM9 17H7v-7h2v7zm4 0h-2V7h2v10zm4 0h-2v-4h2v4z\"/>\n",
              "    </g>\n",
              "</svg>\n",
              "  </button>\n",
              "\n",
              "<style>\n",
              "  .colab-df-quickchart {\n",
              "      --bg-color: #E8F0FE;\n",
              "      --fill-color: #1967D2;\n",
              "      --hover-bg-color: #E2EBFA;\n",
              "      --hover-fill-color: #174EA6;\n",
              "      --disabled-fill-color: #AAA;\n",
              "      --disabled-bg-color: #DDD;\n",
              "  }\n",
              "\n",
              "  [theme=dark] .colab-df-quickchart {\n",
              "      --bg-color: #3B4455;\n",
              "      --fill-color: #D2E3FC;\n",
              "      --hover-bg-color: #434B5C;\n",
              "      --hover-fill-color: #FFFFFF;\n",
              "      --disabled-bg-color: #3B4455;\n",
              "      --disabled-fill-color: #666;\n",
              "  }\n",
              "\n",
              "  .colab-df-quickchart {\n",
              "    background-color: var(--bg-color);\n",
              "    border: none;\n",
              "    border-radius: 50%;\n",
              "    cursor: pointer;\n",
              "    display: none;\n",
              "    fill: var(--fill-color);\n",
              "    height: 32px;\n",
              "    padding: 0;\n",
              "    width: 32px;\n",
              "  }\n",
              "\n",
              "  .colab-df-quickchart:hover {\n",
              "    background-color: var(--hover-bg-color);\n",
              "    box-shadow: 0 1px 2px rgba(60, 64, 67, 0.3), 0 1px 3px 1px rgba(60, 64, 67, 0.15);\n",
              "    fill: var(--button-hover-fill-color);\n",
              "  }\n",
              "\n",
              "  .colab-df-quickchart-complete:disabled,\n",
              "  .colab-df-quickchart-complete:disabled:hover {\n",
              "    background-color: var(--disabled-bg-color);\n",
              "    fill: var(--disabled-fill-color);\n",
              "    box-shadow: none;\n",
              "  }\n",
              "\n",
              "  .colab-df-spinner {\n",
              "    border: 2px solid var(--fill-color);\n",
              "    border-color: transparent;\n",
              "    border-bottom-color: var(--fill-color);\n",
              "    animation:\n",
              "      spin 1s steps(1) infinite;\n",
              "  }\n",
              "\n",
              "  @keyframes spin {\n",
              "    0% {\n",
              "      border-color: transparent;\n",
              "      border-bottom-color: var(--fill-color);\n",
              "      border-left-color: var(--fill-color);\n",
              "    }\n",
              "    20% {\n",
              "      border-color: transparent;\n",
              "      border-left-color: var(--fill-color);\n",
              "      border-top-color: var(--fill-color);\n",
              "    }\n",
              "    30% {\n",
              "      border-color: transparent;\n",
              "      border-left-color: var(--fill-color);\n",
              "      border-top-color: var(--fill-color);\n",
              "      border-right-color: var(--fill-color);\n",
              "    }\n",
              "    40% {\n",
              "      border-color: transparent;\n",
              "      border-right-color: var(--fill-color);\n",
              "      border-top-color: var(--fill-color);\n",
              "    }\n",
              "    60% {\n",
              "      border-color: transparent;\n",
              "      border-right-color: var(--fill-color);\n",
              "    }\n",
              "    80% {\n",
              "      border-color: transparent;\n",
              "      border-right-color: var(--fill-color);\n",
              "      border-bottom-color: var(--fill-color);\n",
              "    }\n",
              "    90% {\n",
              "      border-color: transparent;\n",
              "      border-bottom-color: var(--fill-color);\n",
              "    }\n",
              "  }\n",
              "</style>\n",
              "\n",
              "  <script>\n",
              "    async function quickchart(key) {\n",
              "      const quickchartButtonEl =\n",
              "        document.querySelector('#' + key + ' button');\n",
              "      quickchartButtonEl.disabled = true;  // To prevent multiple clicks.\n",
              "      quickchartButtonEl.classList.add('colab-df-spinner');\n",
              "      try {\n",
              "        const charts = await google.colab.kernel.invokeFunction(\n",
              "            'suggestCharts', [key], {});\n",
              "      } catch (error) {\n",
              "        console.error('Error during call to suggestCharts:', error);\n",
              "      }\n",
              "      quickchartButtonEl.classList.remove('colab-df-spinner');\n",
              "      quickchartButtonEl.classList.add('colab-df-quickchart-complete');\n",
              "    }\n",
              "    (() => {\n",
              "      let quickchartButtonEl =\n",
              "        document.querySelector('#df-ce0e3dce-2fa0-4fac-9c07-d1c3dbb0795b button');\n",
              "      quickchartButtonEl.style.display =\n",
              "        google.colab.kernel.accessAllowed ? 'block' : 'none';\n",
              "    })();\n",
              "  </script>\n",
              "</div>\n",
              "\n",
              "    </div>\n",
              "  </div>\n"
            ]
          },
          "metadata": {},
          "execution_count": 3
        }
      ]
    },
    {
      "cell_type": "markdown",
      "source": [
        "# 4. Data Preprocessing\n",
        "Now as you saw previously, data values are so big which may cause bad results. Its a crucial steps to normalize the dataset before we proceed. Lets normalize the dataset in the cell below."
      ],
      "metadata": {
        "id": "VMzuXfJnbBpr"
      }
    },
    {
      "cell_type": "code",
      "source": [
        "original_df = data_df.copy() # Creating a copy of the original Dataframe to use to normalize inference\n",
        "\n",
        "for column in data_df.columns:\n",
        "    data_df[column] = data_df[column]/data_df[column].abs().max() # Divide by the maximum of the column which will make max value of each column is 1\n",
        "data_df.head()"
      ],
      "metadata": {
        "colab": {
          "base_uri": "https://localhost:8080/",
          "height": 206
        },
        "id": "waDVfvecMiGK",
        "outputId": "b43f8861-309f-4196-f094-4499e7bddaef"
      },
      "execution_count": 4,
      "outputs": [
        {
          "output_type": "execute_result",
          "data": {
            "text/plain": [
              "       Area  MajorAxisLength  MinorAxisLength  Eccentricity  ConvexArea  \\\n",
              "0  0.444368         0.503404         0.775435      0.744658    0.424873   \n",
              "1  0.281293         0.407681         0.622653      0.750489    0.273892   \n",
              "2  0.298531         0.416421         0.630442      0.756341    0.284520   \n",
              "3  0.300979         0.420463         0.629049      0.764024    0.286791   \n",
              "4  0.361704         0.464626         0.682901      0.775033    0.345385   \n",
              "\n",
              "   EquivDiameter    Extent  Perimeter  Roundness  AspectRation  Class  \n",
              "0       0.666610  0.741661   0.537029   0.844997      0.368316    1.0  \n",
              "1       0.530370  0.804230   0.409661   0.919215      0.371471    1.0  \n",
              "2       0.546380  0.856278   0.412994   0.959862      0.374747    1.0  \n",
              "3       0.548616  0.883772   0.414262   0.961818      0.379222    1.0  \n",
              "4       0.601418  0.867808   0.452954   0.966836      0.386007    1.0  "
            ],
            "text/html": [
              "\n",
              "  <div id=\"df-8b9d42cf-ecad-459e-9194-1b3d443c4f26\" class=\"colab-df-container\">\n",
              "    <div>\n",
              "<style scoped>\n",
              "    .dataframe tbody tr th:only-of-type {\n",
              "        vertical-align: middle;\n",
              "    }\n",
              "\n",
              "    .dataframe tbody tr th {\n",
              "        vertical-align: top;\n",
              "    }\n",
              "\n",
              "    .dataframe thead th {\n",
              "        text-align: right;\n",
              "    }\n",
              "</style>\n",
              "<table border=\"1\" class=\"dataframe\">\n",
              "  <thead>\n",
              "    <tr style=\"text-align: right;\">\n",
              "      <th></th>\n",
              "      <th>Area</th>\n",
              "      <th>MajorAxisLength</th>\n",
              "      <th>MinorAxisLength</th>\n",
              "      <th>Eccentricity</th>\n",
              "      <th>ConvexArea</th>\n",
              "      <th>EquivDiameter</th>\n",
              "      <th>Extent</th>\n",
              "      <th>Perimeter</th>\n",
              "      <th>Roundness</th>\n",
              "      <th>AspectRation</th>\n",
              "      <th>Class</th>\n",
              "    </tr>\n",
              "  </thead>\n",
              "  <tbody>\n",
              "    <tr>\n",
              "      <th>0</th>\n",
              "      <td>0.444368</td>\n",
              "      <td>0.503404</td>\n",
              "      <td>0.775435</td>\n",
              "      <td>0.744658</td>\n",
              "      <td>0.424873</td>\n",
              "      <td>0.666610</td>\n",
              "      <td>0.741661</td>\n",
              "      <td>0.537029</td>\n",
              "      <td>0.844997</td>\n",
              "      <td>0.368316</td>\n",
              "      <td>1.0</td>\n",
              "    </tr>\n",
              "    <tr>\n",
              "      <th>1</th>\n",
              "      <td>0.281293</td>\n",
              "      <td>0.407681</td>\n",
              "      <td>0.622653</td>\n",
              "      <td>0.750489</td>\n",
              "      <td>0.273892</td>\n",
              "      <td>0.530370</td>\n",
              "      <td>0.804230</td>\n",
              "      <td>0.409661</td>\n",
              "      <td>0.919215</td>\n",
              "      <td>0.371471</td>\n",
              "      <td>1.0</td>\n",
              "    </tr>\n",
              "    <tr>\n",
              "      <th>2</th>\n",
              "      <td>0.298531</td>\n",
              "      <td>0.416421</td>\n",
              "      <td>0.630442</td>\n",
              "      <td>0.756341</td>\n",
              "      <td>0.284520</td>\n",
              "      <td>0.546380</td>\n",
              "      <td>0.856278</td>\n",
              "      <td>0.412994</td>\n",
              "      <td>0.959862</td>\n",
              "      <td>0.374747</td>\n",
              "      <td>1.0</td>\n",
              "    </tr>\n",
              "    <tr>\n",
              "      <th>3</th>\n",
              "      <td>0.300979</td>\n",
              "      <td>0.420463</td>\n",
              "      <td>0.629049</td>\n",
              "      <td>0.764024</td>\n",
              "      <td>0.286791</td>\n",
              "      <td>0.548616</td>\n",
              "      <td>0.883772</td>\n",
              "      <td>0.414262</td>\n",
              "      <td>0.961818</td>\n",
              "      <td>0.379222</td>\n",
              "      <td>1.0</td>\n",
              "    </tr>\n",
              "    <tr>\n",
              "      <th>4</th>\n",
              "      <td>0.361704</td>\n",
              "      <td>0.464626</td>\n",
              "      <td>0.682901</td>\n",
              "      <td>0.775033</td>\n",
              "      <td>0.345385</td>\n",
              "      <td>0.601418</td>\n",
              "      <td>0.867808</td>\n",
              "      <td>0.452954</td>\n",
              "      <td>0.966836</td>\n",
              "      <td>0.386007</td>\n",
              "      <td>1.0</td>\n",
              "    </tr>\n",
              "  </tbody>\n",
              "</table>\n",
              "</div>\n",
              "    <div class=\"colab-df-buttons\">\n",
              "\n",
              "  <div class=\"colab-df-container\">\n",
              "    <button class=\"colab-df-convert\" onclick=\"convertToInteractive('df-8b9d42cf-ecad-459e-9194-1b3d443c4f26')\"\n",
              "            title=\"Convert this dataframe to an interactive table.\"\n",
              "            style=\"display:none;\">\n",
              "\n",
              "  <svg xmlns=\"http://www.w3.org/2000/svg\" height=\"24px\" viewBox=\"0 -960 960 960\">\n",
              "    <path d=\"M120-120v-720h720v720H120Zm60-500h600v-160H180v160Zm220 220h160v-160H400v160Zm0 220h160v-160H400v160ZM180-400h160v-160H180v160Zm440 0h160v-160H620v160ZM180-180h160v-160H180v160Zm440 0h160v-160H620v160Z\"/>\n",
              "  </svg>\n",
              "    </button>\n",
              "\n",
              "  <style>\n",
              "    .colab-df-container {\n",
              "      display:flex;\n",
              "      gap: 12px;\n",
              "    }\n",
              "\n",
              "    .colab-df-convert {\n",
              "      background-color: #E8F0FE;\n",
              "      border: none;\n",
              "      border-radius: 50%;\n",
              "      cursor: pointer;\n",
              "      display: none;\n",
              "      fill: #1967D2;\n",
              "      height: 32px;\n",
              "      padding: 0 0 0 0;\n",
              "      width: 32px;\n",
              "    }\n",
              "\n",
              "    .colab-df-convert:hover {\n",
              "      background-color: #E2EBFA;\n",
              "      box-shadow: 0px 1px 2px rgba(60, 64, 67, 0.3), 0px 1px 3px 1px rgba(60, 64, 67, 0.15);\n",
              "      fill: #174EA6;\n",
              "    }\n",
              "\n",
              "    .colab-df-buttons div {\n",
              "      margin-bottom: 4px;\n",
              "    }\n",
              "\n",
              "    [theme=dark] .colab-df-convert {\n",
              "      background-color: #3B4455;\n",
              "      fill: #D2E3FC;\n",
              "    }\n",
              "\n",
              "    [theme=dark] .colab-df-convert:hover {\n",
              "      background-color: #434B5C;\n",
              "      box-shadow: 0px 1px 3px 1px rgba(0, 0, 0, 0.15);\n",
              "      filter: drop-shadow(0px 1px 2px rgba(0, 0, 0, 0.3));\n",
              "      fill: #FFFFFF;\n",
              "    }\n",
              "  </style>\n",
              "\n",
              "    <script>\n",
              "      const buttonEl =\n",
              "        document.querySelector('#df-8b9d42cf-ecad-459e-9194-1b3d443c4f26 button.colab-df-convert');\n",
              "      buttonEl.style.display =\n",
              "        google.colab.kernel.accessAllowed ? 'block' : 'none';\n",
              "\n",
              "      async function convertToInteractive(key) {\n",
              "        const element = document.querySelector('#df-8b9d42cf-ecad-459e-9194-1b3d443c4f26');\n",
              "        const dataTable =\n",
              "          await google.colab.kernel.invokeFunction('convertToInteractive',\n",
              "                                                    [key], {});\n",
              "        if (!dataTable) return;\n",
              "\n",
              "        const docLinkHtml = 'Like what you see? Visit the ' +\n",
              "          '<a target=\"_blank\" href=https://colab.research.google.com/notebooks/data_table.ipynb>data table notebook</a>'\n",
              "          + ' to learn more about interactive tables.';\n",
              "        element.innerHTML = '';\n",
              "        dataTable['output_type'] = 'display_data';\n",
              "        await google.colab.output.renderOutput(dataTable, element);\n",
              "        const docLink = document.createElement('div');\n",
              "        docLink.innerHTML = docLinkHtml;\n",
              "        element.appendChild(docLink);\n",
              "      }\n",
              "    </script>\n",
              "  </div>\n",
              "\n",
              "\n",
              "<div id=\"df-52329d7b-6a7e-4992-9215-ce57fc625722\">\n",
              "  <button class=\"colab-df-quickchart\" onclick=\"quickchart('df-52329d7b-6a7e-4992-9215-ce57fc625722')\"\n",
              "            title=\"Suggest charts\"\n",
              "            style=\"display:none;\">\n",
              "\n",
              "<svg xmlns=\"http://www.w3.org/2000/svg\" height=\"24px\"viewBox=\"0 0 24 24\"\n",
              "     width=\"24px\">\n",
              "    <g>\n",
              "        <path d=\"M19 3H5c-1.1 0-2 .9-2 2v14c0 1.1.9 2 2 2h14c1.1 0 2-.9 2-2V5c0-1.1-.9-2-2-2zM9 17H7v-7h2v7zm4 0h-2V7h2v10zm4 0h-2v-4h2v4z\"/>\n",
              "    </g>\n",
              "</svg>\n",
              "  </button>\n",
              "\n",
              "<style>\n",
              "  .colab-df-quickchart {\n",
              "      --bg-color: #E8F0FE;\n",
              "      --fill-color: #1967D2;\n",
              "      --hover-bg-color: #E2EBFA;\n",
              "      --hover-fill-color: #174EA6;\n",
              "      --disabled-fill-color: #AAA;\n",
              "      --disabled-bg-color: #DDD;\n",
              "  }\n",
              "\n",
              "  [theme=dark] .colab-df-quickchart {\n",
              "      --bg-color: #3B4455;\n",
              "      --fill-color: #D2E3FC;\n",
              "      --hover-bg-color: #434B5C;\n",
              "      --hover-fill-color: #FFFFFF;\n",
              "      --disabled-bg-color: #3B4455;\n",
              "      --disabled-fill-color: #666;\n",
              "  }\n",
              "\n",
              "  .colab-df-quickchart {\n",
              "    background-color: var(--bg-color);\n",
              "    border: none;\n",
              "    border-radius: 50%;\n",
              "    cursor: pointer;\n",
              "    display: none;\n",
              "    fill: var(--fill-color);\n",
              "    height: 32px;\n",
              "    padding: 0;\n",
              "    width: 32px;\n",
              "  }\n",
              "\n",
              "  .colab-df-quickchart:hover {\n",
              "    background-color: var(--hover-bg-color);\n",
              "    box-shadow: 0 1px 2px rgba(60, 64, 67, 0.3), 0 1px 3px 1px rgba(60, 64, 67, 0.15);\n",
              "    fill: var(--button-hover-fill-color);\n",
              "  }\n",
              "\n",
              "  .colab-df-quickchart-complete:disabled,\n",
              "  .colab-df-quickchart-complete:disabled:hover {\n",
              "    background-color: var(--disabled-bg-color);\n",
              "    fill: var(--disabled-fill-color);\n",
              "    box-shadow: none;\n",
              "  }\n",
              "\n",
              "  .colab-df-spinner {\n",
              "    border: 2px solid var(--fill-color);\n",
              "    border-color: transparent;\n",
              "    border-bottom-color: var(--fill-color);\n",
              "    animation:\n",
              "      spin 1s steps(1) infinite;\n",
              "  }\n",
              "\n",
              "  @keyframes spin {\n",
              "    0% {\n",
              "      border-color: transparent;\n",
              "      border-bottom-color: var(--fill-color);\n",
              "      border-left-color: var(--fill-color);\n",
              "    }\n",
              "    20% {\n",
              "      border-color: transparent;\n",
              "      border-left-color: var(--fill-color);\n",
              "      border-top-color: var(--fill-color);\n",
              "    }\n",
              "    30% {\n",
              "      border-color: transparent;\n",
              "      border-left-color: var(--fill-color);\n",
              "      border-top-color: var(--fill-color);\n",
              "      border-right-color: var(--fill-color);\n",
              "    }\n",
              "    40% {\n",
              "      border-color: transparent;\n",
              "      border-right-color: var(--fill-color);\n",
              "      border-top-color: var(--fill-color);\n",
              "    }\n",
              "    60% {\n",
              "      border-color: transparent;\n",
              "      border-right-color: var(--fill-color);\n",
              "    }\n",
              "    80% {\n",
              "      border-color: transparent;\n",
              "      border-right-color: var(--fill-color);\n",
              "      border-bottom-color: var(--fill-color);\n",
              "    }\n",
              "    90% {\n",
              "      border-color: transparent;\n",
              "      border-bottom-color: var(--fill-color);\n",
              "    }\n",
              "  }\n",
              "</style>\n",
              "\n",
              "  <script>\n",
              "    async function quickchart(key) {\n",
              "      const quickchartButtonEl =\n",
              "        document.querySelector('#' + key + ' button');\n",
              "      quickchartButtonEl.disabled = true;  // To prevent multiple clicks.\n",
              "      quickchartButtonEl.classList.add('colab-df-spinner');\n",
              "      try {\n",
              "        const charts = await google.colab.kernel.invokeFunction(\n",
              "            'suggestCharts', [key], {});\n",
              "      } catch (error) {\n",
              "        console.error('Error during call to suggestCharts:', error);\n",
              "      }\n",
              "      quickchartButtonEl.classList.remove('colab-df-spinner');\n",
              "      quickchartButtonEl.classList.add('colab-df-quickchart-complete');\n",
              "    }\n",
              "    (() => {\n",
              "      let quickchartButtonEl =\n",
              "        document.querySelector('#df-52329d7b-6a7e-4992-9215-ce57fc625722 button');\n",
              "      quickchartButtonEl.style.display =\n",
              "        google.colab.kernel.accessAllowed ? 'block' : 'none';\n",
              "    })();\n",
              "  </script>\n",
              "</div>\n",
              "\n",
              "    </div>\n",
              "  </div>\n"
            ]
          },
          "metadata": {},
          "execution_count": 4
        }
      ]
    },
    {
      "cell_type": "markdown",
      "source": [
        "# 5. Data Splitting\n",
        "We will detect the inputs and the outputs of the data which are X and Y respectively.\n",
        "\n",
        "Then we will split our data into the following:\n",
        "\n",
        "* Training Size 70%\n",
        "* Validation Size 15%\n",
        "* Testing Size 15%\n",
        "\n",
        "We will do this by splitting our data twice using the train_test_split function in sklearn the function takes inputs, outputs and the testing size. After that we will print the training, validation and testing shapes and sizes. Then we will print the new shapes of our data."
      ],
      "metadata": {
        "id": "jE9tvEBqmL5E"
      }
    },
    {
      "cell_type": "code",
      "source": [
        "X = np.array(data_df.iloc[:,:-1]) # Get the inputs, all rows and all columns except last column (output)\n",
        "Y = np.array(data_df.iloc[:, -1]) # Get the ouputs, all rows and last column only (output column)\n",
        "\n",
        "X_train, X_test, y_train, y_test = train_test_split(X, Y, test_size = 0.3) # Create the training split\n",
        "X_test, X_val, y_test, y_val = train_test_split(X_test, y_test, test_size = 0.5) # Create the validation split\n",
        "\n",
        "print(\"Training set is: \", X_train.shape[0], \" rows which is \", round(X_train.shape[0]/data_df.shape[0],4)*100, \"%\") # Print training shape\n",
        "print(\"Validation set is: \",X_val.shape[0], \" rows which is \", round(X_val.shape[0]/data_df.shape[0],4)*100, \"%\") # Print validation shape\n",
        "print(\"Testing set is: \",X_test.shape[0], \" rows which is \", round(X_test.shape[0]/data_df.shape[0],4)*100, \"%\") # Print testing shape"
      ],
      "metadata": {
        "colab": {
          "base_uri": "https://localhost:8080/"
        },
        "id": "04A0-y-BfUoX",
        "outputId": "074b7d49-2e3c-4e27-fed8-be10a4dfeba4"
      },
      "execution_count": 5,
      "outputs": [
        {
          "output_type": "stream",
          "name": "stdout",
          "text": [
            "Training set is:  12729  rows which is  70.0 %\n",
            "Validation set is:  2728  rows which is  15.0 %\n",
            "Testing set is:  2728  rows which is  15.0 %\n"
          ]
        }
      ]
    },
    {
      "cell_type": "markdown",
      "source": [
        "# 6. Dataset Object\n",
        "Now we will create the dataset object. This part is not complex but its a bit tricky. We need to convert our dataset to PyTorch Dataset object as it will be more efficient during training, you can use the dataset as its, but lets keep things professional and efficient. First we define our class that will be taking the main Dataset class with the concept of inheritance. Let's make the concept simpler. There is a big class that PyTorch, this class has several functions inside it, we will recreate that class and modify some functions to match our needs.\n",
        "\n",
        "In the cell below, we rebuilt the constructor function which is `__init__`. We put X and Y as a parameters to this function which are the inputs and outputs respectively, then inside the function we define the inputs and converting it to tensors, then converting the outputs to tensors and we make the numbers as a `float32` Additionally, we moved all our data to cuda device. Then we modified the `__len__` and the `__getitem__` to match our needs which gets the specific length/shape of the data, and the data of specific row in our data respectively."
      ],
      "metadata": {
        "id": "1qABq32QnQ6-"
      }
    },
    {
      "cell_type": "code",
      "source": [
        "class dataset(Dataset):\n",
        "    def __init__(self, X, Y):\n",
        "        self.X = torch.tensor(X, dtype = torch.float32).to(device)\n",
        "        self.Y = torch.tensor(Y, dtype = torch.float32).to(device)\n",
        "\n",
        "    def __len__(self):\n",
        "        return len(self.X)\n",
        "    def __getitem__(self, index):\n",
        "        return self.X[index], self.Y[index]\n",
        "\n",
        "training_data = dataset(X_train, y_train)\n",
        "validation_data = dataset(X_val, y_val)\n",
        "testing_data = dataset(X_test, y_test)"
      ],
      "metadata": {
        "id": "iju76hoWfaHe"
      },
      "execution_count": 6,
      "outputs": []
    },
    {
      "cell_type": "markdown",
      "source": [
        "# 7. Training Hyper Parameters\n",
        "Now we are setting the training hyperparameters, we defined some variables which are the batch size, number of training epochs, Hidden Neurons and learning rate."
      ],
      "metadata": {
        "id": "6rm0laL0n34L"
      }
    },
    {
      "cell_type": "code",
      "source": [
        "BATCH_SIZE = 32\n",
        "EPOCHS = 10\n",
        "HIDDEN_NEURONS = 10\n",
        "LR = 1e-3"
      ],
      "metadata": {
        "id": "8C6bsRjEg08S"
      },
      "execution_count": 7,
      "outputs": []
    },
    {
      "cell_type": "markdown",
      "source": [
        "# 8. Data Loaders\n",
        "This concept may seem complicated, but its very easy, PyTorch provides a class called DataLoader which allows us to create objects of it to simplify the training.\n",
        "\n",
        "Dataloader is an object that we can loop through it to train according to batches. When we start training, we loop through epochs, if you skip the batch size it means that the amount of training data in one batch is equal to the complete amount of training data, this method is not efficient and in most of the cases you need to train through using batches. Dataloader allows you to loop through the batches easily during the training. When you create a dataloader. You define the batch size and enable the shuffle to randomize the data and then you can loop through it in each epoch to train normally.\n",
        "\n",
        "In the next cell, we defined a dataloader for each of our data (training, validation and testing)."
      ],
      "metadata": {
        "id": "PoeZE7D2oCe9"
      }
    },
    {
      "cell_type": "code",
      "source": [
        "train_dataloader = DataLoader(training_data, batch_size=BATCH_SIZE, shuffle= True)\n",
        "validation_dataloader = DataLoader(validation_data, batch_size=BATCH_SIZE, shuffle= True)\n",
        "testing_dataloader = DataLoader(testing_data, batch_size=BATCH_SIZE, shuffle= True)"
      ],
      "metadata": {
        "id": "6zs9yu6BgkR1"
      },
      "execution_count": 8,
      "outputs": []
    },
    {
      "cell_type": "markdown",
      "source": [
        "# 9. Model Class\n",
        "Creating a model in PyTorch seems not very straight forward in the beggining, but if you understand how machine learning and deep learning works, it will be easy for you to understand PyTorch structure easily.\n",
        "\n",
        "In the next cell we define a new class MyModel that inherits from nn.Module like we did for the dataset. Remember, in simple terms, we want to redefine some functions in the class to match our needs. In the constructor which is `__init__` and we give it the bert model. Then super`(MyModel, self).__init__()` This line calls the constructor of the parent class nn.Module to ensure it's properly initialized. Which means we have the original constructor together with our part of it!\n",
        "\n",
        "Then, we create our layers, a linear layer which represents the input and having the input size of 10 which is the number of columns of the input and the output of the number of hidden neurons, next layer is the output layer which have the input of hidden neurons and one output since we have a binary classification. Finally we have the activation function which is the sigmoid. Our model is pretty simple and straight forward, we are using a simple dataset and we just want to see how PyTorch can be used to build that.\n",
        "\n",
        "In the function forward, this function is the forward propagation of the model, how is the data flowing inside the model from the input to the output. This means we can control this completely. That's how PyTorch is so customizable! In the below cell, we define the flow as follows, starting by input layer and followed by the output layer then the activation layer."
      ],
      "metadata": {
        "id": "SAbIDVA_oKpg"
      }
    },
    {
      "cell_type": "code",
      "source": [
        "class MyModel(nn.Module):\n",
        "    def __init__(self):\n",
        "\n",
        "        super(MyModel, self).__init__()\n",
        "\n",
        "        self.input_layer = nn.Linear(X.shape[1], HIDDEN_NEURONS)\n",
        "        self.linear = nn.Linear(HIDDEN_NEURONS, 1)\n",
        "        self.sigmoid = nn.Sigmoid()\n",
        "\n",
        "    def forward(self, x):\n",
        "        x = self.input_layer(x)\n",
        "        x = self.linear(x)\n",
        "        x = self.sigmoid(x)\n",
        "        return x"
      ],
      "metadata": {
        "id": "Q0Wo9UO2gwA3"
      },
      "execution_count": 9,
      "outputs": []
    },
    {
      "cell_type": "markdown",
      "source": [
        "# 10. Model Creation\n",
        "Now lets create our model and move it to the assigned device (cuda if you have GPU or the CPU if you don't have any GPUs). Additionally, we will print the a `summary` of the model using the function summary which will take our model and the input size."
      ],
      "metadata": {
        "id": "h4rlzDFNbZ0X"
      }
    },
    {
      "cell_type": "code",
      "source": [
        "model = MyModel().to(device)\n",
        "summary(model, (X.shape[1],))"
      ],
      "metadata": {
        "id": "DRUUWbpohF7L",
        "colab": {
          "base_uri": "https://localhost:8080/"
        },
        "outputId": "aef37c47-b246-4697-c8f8-90126128ef83"
      },
      "execution_count": 10,
      "outputs": [
        {
          "output_type": "stream",
          "name": "stdout",
          "text": [
            "----------------------------------------------------------------\n",
            "        Layer (type)               Output Shape         Param #\n",
            "================================================================\n",
            "            Linear-1                   [-1, 10]             110\n",
            "            Linear-2                    [-1, 1]              11\n",
            "           Sigmoid-3                    [-1, 1]               0\n",
            "================================================================\n",
            "Total params: 121\n",
            "Trainable params: 121\n",
            "Non-trainable params: 0\n",
            "----------------------------------------------------------------\n",
            "Input size (MB): 0.00\n",
            "Forward/backward pass size (MB): 0.00\n",
            "Params size (MB): 0.00\n",
            "Estimated Total Size (MB): 0.00\n",
            "----------------------------------------------------------------\n"
          ]
        }
      ]
    },
    {
      "cell_type": "markdown",
      "source": [
        "# 11. Loss and Optimizer\n",
        "In the next cell, we will create the loss function which will be Binary Cross entropy and the optimizer `Adam` which will take the model parameters/weights and the learning rate."
      ],
      "metadata": {
        "id": "wX_UTkNSb8Kf"
      }
    },
    {
      "cell_type": "code",
      "source": [
        "criterion = nn.BCELoss()\n",
        "optimizer = Adam(model.parameters(), lr= LR)"
      ],
      "metadata": {
        "id": "LzFKRv9oiOSI"
      },
      "execution_count": 11,
      "outputs": []
    },
    {
      "cell_type": "markdown",
      "source": [
        "# 12. Training\n",
        "Now comes the exciting part. As we mentioned several times, nothing is complex here if you know how deep learning works. You just need to know PyTorch syntax. We start by initializing the for loop with the specified number of epochs. But before that we define 4 lists and inside the loop we define another 4 variables.\n",
        "\n",
        "## Variables:\n",
        "* `total_acc_train`: here we will keep tracking of the training accuracy progress during each epoch, we calculate the accuracy during the batch size and we print it in the end for tracking the accuracy on each epoch.\n",
        "\n",
        "* `total_loss_train`: here we will keep tracking of the training loss progress during each epoch, we calculate the accuracy during the batch size and we use the loss value to optimize and modify the model parameters.\n",
        "\n",
        "* `total_acc_val`: here we will keep tracking of the validation accuracy progress during each epoch, we calculate the accuracy during the batch size and we print it in the end for tracking the accuracy on each epoch and help us know if there is any overfitting.\n",
        "\n",
        "* `total_loss_val`: here we will keep tracking of the validation loss progress during each epoch, we calculate the accuracy during the batch size.\n",
        "\n",
        "## Lists:\n",
        "* `total_acc_train_plot`: We append the losses of the training accuracy to visualize them at the end.\n",
        "\n",
        "* `total_loss_train_plot`: We append the losses of the training to visualize them at the end.\n",
        "\n",
        "* `total_acc_validation_plot`: We append the losses of the validation accuracy to visualize them at the end.\n",
        "\n",
        "* `total_loss_validation_plot`: We append the losses of the validation to visualize them at the end.\n",
        "\n",
        "## Training\n",
        "Then, we start to loop through the training dataloaders, we use the enumerate functionality to loop through data and indices at the same time. We are not using the indices here, but lets kept it just if you want to try different stuff with the loop or debug. In the second loop, we start by getting our data from the data loader, then we move the inputs and labels to the cuda device. We allow the model to make a prediction or what is called forward propagation, then we get the output of the model and compare it with our original output using the loss criteration. We use the squeeze function to modify the shape of the output and make it returns a tensor with all specified dimensions of input of size 1 removed. we add the loss amount to `total_loss_train`. Additionally, we get the accuracy by comparing the correct batch with the predicted batch and we add it to the total_acc_train. Then we do the `batch_loss.backward()` which makes the backpropagation and we use the optimizer to do a step on the weights using `optimizer.step()` and then we reset the optimizer gradients using `optimizer.zero_grad()` which is a very important step that has to be done before proceeding.\n",
        "\n",
        "## Validation\n",
        "After that we exit the batch loop (train dataloader loop) and we start with the validation. Don't forget that we are still in the same epoch. In side that we start by with `torch.no_grad()` which means that we need the model to do predicitons without being trained. We just need to see the validation preformance. Then we do the same steps which are predicting and calculating loss and accuracy and storing these values.\n",
        "\n",
        "At the end we print after each epoch the epoch number, training loss, training accuracy, validation loss and validation accuracy. We use the printing of \"=\" signs just for making the printing output looks clean."
      ],
      "metadata": {
        "id": "wvGMerrzcI-e"
      }
    },
    {
      "cell_type": "code",
      "source": [
        "total_loss_train_plot = []\n",
        "total_loss_validation_plot = []\n",
        "total_acc_train_plot = []\n",
        "total_acc_validation_plot = []\n",
        "\n",
        "for epoch in range(EPOCHS):\n",
        "    total_acc_train = 0\n",
        "    total_loss_train = 0\n",
        "    total_acc_val = 0\n",
        "    total_loss_val = 0\n",
        "    ## Training and Validation\n",
        "    for data in train_dataloader:\n",
        "\n",
        "        inputs, labels = data\n",
        "\n",
        "        prediction = model(inputs).squeeze(1)\n",
        "\n",
        "        batch_loss = criterion(prediction, labels)\n",
        "\n",
        "        total_loss_train += batch_loss.item()\n",
        "\n",
        "        acc = ((prediction).round() == labels).sum().item()\n",
        "\n",
        "        total_acc_train += acc\n",
        "\n",
        "        batch_loss.backward()\n",
        "        optimizer.step()\n",
        "        optimizer.zero_grad()\n",
        "\n",
        "    ## Validation\n",
        "    with torch.no_grad():\n",
        "        for data in validation_dataloader:\n",
        "            inputs, labels = data\n",
        "\n",
        "            prediction = model(inputs).squeeze(1)\n",
        "\n",
        "            batch_loss = criterion(prediction, labels)\n",
        "\n",
        "            total_loss_val += batch_loss.item()\n",
        "\n",
        "            acc = ((prediction).round() == labels).sum().item()\n",
        "\n",
        "            total_acc_val += acc\n",
        "\n",
        "    total_loss_train_plot.append(round(total_loss_train/1000, 4))\n",
        "    total_loss_validation_plot.append(round(total_loss_val/1000, 4))\n",
        "    total_acc_train_plot.append(round(total_acc_train/(training_data.__len__())*100, 4))\n",
        "    total_acc_validation_plot.append(round(total_acc_val/(validation_data.__len__())*100, 4))\n",
        "\n",
        "    print(f'''Epoch no. {epoch + 1} Train Loss: {total_loss_train/1000:.4f} Train Accuracy: {(total_acc_train/(training_data.__len__())*100):.4f} Validation Loss: {total_loss_val/1000:.4f} Validation Accuracy: {(total_acc_val/(validation_data.__len__())*100):.4f}''')\n",
        "    print(\"=\"*50)"
      ],
      "metadata": {
        "colab": {
          "base_uri": "https://localhost:8080/"
        },
        "id": "FuJVA9r3ie2k",
        "outputId": "ae29da0d-923e-4bc5-c0d6-de4b0d017915"
      },
      "execution_count": 12,
      "outputs": [
        {
          "output_type": "stream",
          "name": "stdout",
          "text": [
            "Epoch no. 1 Train Loss: 0.2681 Train Accuracy: 64.4513 Validation Loss: 0.0499 Validation Accuracy: 94.4282\n",
            "==================================================\n",
            "Epoch no. 2 Train Loss: 0.1640 Train Accuracy: 97.4939 Validation Loss: 0.0212 Validation Accuracy: 98.7903\n",
            "==================================================\n",
            "Epoch no. 3 Train Loss: 0.0699 Train Accuracy: 98.3424 Validation Loss: 0.0101 Validation Accuracy: 98.9003\n",
            "==================================================\n",
            "Epoch no. 4 Train Loss: 0.0404 Train Accuracy: 98.4602 Validation Loss: 0.0066 Validation Accuracy: 98.8636\n",
            "==================================================\n",
            "Epoch no. 5 Train Loss: 0.0297 Train Accuracy: 98.5231 Validation Loss: 0.0051 Validation Accuracy: 98.9003\n",
            "==================================================\n",
            "Epoch no. 6 Train Loss: 0.0248 Train Accuracy: 98.5466 Validation Loss: 0.0044 Validation Accuracy: 98.9003\n",
            "==================================================\n",
            "Epoch no. 7 Train Loss: 0.0219 Train Accuracy: 98.5938 Validation Loss: 0.0039 Validation Accuracy: 98.9003\n",
            "==================================================\n",
            "Epoch no. 8 Train Loss: 0.0202 Train Accuracy: 98.6330 Validation Loss: 0.0038 Validation Accuracy: 98.9003\n",
            "==================================================\n",
            "Epoch no. 9 Train Loss: 0.0191 Train Accuracy: 98.6016 Validation Loss: 0.0034 Validation Accuracy: 98.9003\n",
            "==================================================\n",
            "Epoch no. 10 Train Loss: 0.0183 Train Accuracy: 98.6173 Validation Loss: 0.0032 Validation Accuracy: 98.9003\n",
            "==================================================\n"
          ]
        }
      ]
    },
    {
      "cell_type": "markdown",
      "source": [
        "# 13. Testing\n",
        "Now in this section, we will be testing our model, we will start the code by with `torch.no_grad():` which means that we are telling PyTorch that we don't want to train the model we will be using it only for testing. Then we will declare initial loss and accuracy as zeros, we will start by looping through the testing dataloader like we did before during training. Inside the loop, we got our data and we moved it to our GPU (cuda) and then we ran our model on the data and we got the predictions. After that we get the loss and then we add it to our overall loss, we do the same for accuracy, and finally we print the accuracy."
      ],
      "metadata": {
        "id": "8AaERXtheCKE"
      }
    },
    {
      "cell_type": "code",
      "source": [
        "with torch.no_grad():\n",
        "  total_loss_test = 0\n",
        "  total_acc_test = 0\n",
        "  for data in testing_dataloader:\n",
        "    inputs, labels = data\n",
        "\n",
        "    prediction = model(inputs).squeeze(1)\n",
        "\n",
        "    batch_loss_test = criterion((prediction), labels)\n",
        "    total_loss_test += batch_loss_test.item()\n",
        "    acc = ((prediction).round() == labels).sum().item()\n",
        "    total_acc_test += acc\n",
        "\n",
        "print(f\"Accuracy Score is: {round((total_acc_test/X_test.shape[0])*100, 2)}%\")"
      ],
      "metadata": {
        "colab": {
          "base_uri": "https://localhost:8080/"
        },
        "id": "vPHhFljXnoDB",
        "outputId": "23e482f6-2741-4c9e-af94-fa5612e45980"
      },
      "execution_count": 14,
      "outputs": [
        {
          "output_type": "stream",
          "name": "stdout",
          "text": [
            "Accuracy Score is: 98.39%\n"
          ]
        }
      ]
    },
    {
      "cell_type": "markdown",
      "source": [
        "# 14. Plotting and Visualizations (Optional)\n",
        "The results may not be very good, feel free to play with the layers, hyperparameters and text filteration to achieve better performance!"
      ],
      "metadata": {
        "id": "plRG5lj2eFjT"
      }
    },
    {
      "cell_type": "code",
      "source": [
        "fig, axs = plt.subplots(nrows=1, ncols=2, figsize=(15, 5))\n",
        "\n",
        "axs[0].plot(total_loss_train_plot, label='Training Loss')\n",
        "axs[0].plot(total_loss_validation_plot, label='Validation Loss')\n",
        "axs[0].set_title('Training and Validation Loss over Epochs')\n",
        "axs[0].set_xlabel('Epochs')\n",
        "axs[0].set_ylabel('Loss')\n",
        "axs[0].set_ylim([0, 2])\n",
        "axs[0].legend()\n",
        "\n",
        "axs[1].plot(total_acc_train_plot, label='Training Accuracy')\n",
        "axs[1].plot(total_acc_validation_plot, label='Validation Accuracy')\n",
        "axs[1].set_title('Training and Validation Accuracy over Epochs')\n",
        "axs[1].set_xlabel('Epochs')\n",
        "axs[1].set_ylabel('Accuracy')\n",
        "axs[1].set_ylim([0, 100])\n",
        "axs[1].legend()\n",
        "\n",
        "plt.tight_layout()\n",
        "\n",
        "plt.show()"
      ],
      "metadata": {
        "colab": {
          "base_uri": "https://localhost:8080/",
          "height": 421
        },
        "id": "wtSp2YGUxPZ6",
        "outputId": "6aa955ce-5d8b-451f-994e-aadb02d33677"
      },
      "execution_count": 16,
      "outputs": [
        {
          "output_type": "display_data",
          "data": {
            "text/plain": [
              "<Figure size 1500x500 with 2 Axes>"
            ],
            "image/png": "[encoded data removed]"
          },
          "metadata": {}
        }
      ]
    },
    {
      "cell_type": "markdown",
      "source": [
        "# 15. Inference\n",
        "Now lets see how we can use the model in inference mode, inference means making predictions like you are in production."
      ],
      "metadata": {
        "id": "GVJbrC7SCldp"
      }
    },
    {
      "cell_type": "code",
      "source": [
        "area = float(input(\"Area: \"))/original_df['Area'].abs().max()\n",
        "MajorAxisLength = float(input(\"Major Axis Length: \"))/original_df['MajorAxisLength'].abs().max()\n",
        "MinorAxisLength = float(input(\"Minor Axis Length: \"))/original_df['MinorAxisLength'].abs().max()\n",
        "Eccentricity = float(input(\"Eccentricity: \"))/original_df['Eccentricity'].abs().max()\n",
        "ConvexArea = float(input(\"Convex Area: \"))/original_df['ConvexArea'].abs().max()\n",
        "EquivDiameter = float(input(\"EquivDiameter: \"))/original_df['EquivDiameter'].abs().max()\n",
        "Extent = float(input(\"Extent: \"))/original_df['Extent'].abs().max()\n",
        "Perimeter = float(input(\"Perimeter: \"))/original_df['Perimeter'].abs().max()\n",
        "Roundness = float(input(\"Roundness: \"))/original_df['Roundness'].abs().max()\n",
        "AspectRation = float(input(\"AspectRation: \"))/original_df['AspectRation'].abs().max()\n",
        "\n",
        "my_inputs = [area, MajorAxisLength, MinorAxisLength, Eccentricity, ConvexArea, EquivDiameter, Extent, Perimeter, Roundness, AspectRation]\n",
        "\n",
        "print(\"=\"*20)\n",
        "model_inputs = torch.Tensor(my_inputs).to(device)\n",
        "prediction = (model(model_inputs))\n",
        "print(prediction)\n",
        "print(\"Class is: \", round(prediction.item()))"
      ],
      "metadata": {
        "colab": {
          "base_uri": "https://localhost:8080/"
        },
        "id": "z5WFb1OLCnNb",
        "outputId": "d0fb5df6-392d-4c42-e7be-27f5e60bf8cb"
      },
      "execution_count": null,
      "outputs": [
        {
          "output_type": "stream",
          "name": "stdout",
          "text": [
            "Area: 6431.279\n",
            "Major Axis Length: 145.21338\n",
            "Minor Axis Length: 56.902\n",
            "Eccentricity: 0.919981821\n",
            "Convex Area: 6518.93759999\n",
            "EquivDiameter: 90.483541\n",
            "Extent: 0.8506668\n",
            "Perimeter: 329.972\n",
            "Roundness: 0.742255516\n",
            "AspectRation: 2.551696\n",
            "====================\n",
            "tensor([0.8427], device='cuda:0', grad_fn=<SigmoidBackward0>)\n",
            "Class is:  1\n"
          ]
        }
      ]
    }
  ]
}